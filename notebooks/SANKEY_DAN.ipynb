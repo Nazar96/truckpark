{
 "cells": [
  {
   "cell_type": "code",
   "execution_count": 2,
   "metadata": {},
   "outputs": [],
   "source": [
    "%load_ext autoreload\n",
    "%autoreload 2\n",
    "\n",
    "import pandas as pd\n",
    "pd.set_option('display.max_columns', 100)\n",
    "import numpy as np\n",
    "\n",
    "from collections import defaultdict\n",
    "\n",
    "import plotly.graph_objects as go\n",
    "from plotly import express as px\n",
    "\n",
    "import sys\n",
    "sys.path.append('../src/sankey/')\n",
    "\n",
    "from utils2 import *"
   ]
  },
  {
   "cell_type": "markdown",
   "metadata": {},
   "source": [
    "# PREPARATION"
   ]
  },
  {
   "cell_type": "code",
   "execution_count": 1259,
   "metadata": {},
   "outputs": [
    {
     "name": "stdout",
     "output_type": "stream",
     "text": [
      "CPU times: user 7.62 s, sys: 6.76 s, total: 14.4 s\n",
      "Wall time: 8.68 s\n"
     ]
    },
    {
     "name": "stderr",
     "output_type": "stream",
     "text": [
      "b'Skipping line 75: expected 2 fields, saw 3\\nSkipping line 211: expected 2 fields, saw 3\\nSkipping line 218: expected 2 fields, saw 4\\nSkipping line 232: expected 2 fields, saw 3\\nSkipping line 251: expected 2 fields, saw 3\\nSkipping line 266: expected 2 fields, saw 3\\nSkipping line 310: expected 2 fields, saw 3\\nSkipping line 321: expected 2 fields, saw 3\\nSkipping line 391: expected 2 fields, saw 3\\nSkipping line 440: expected 2 fields, saw 3\\nSkipping line 444: expected 2 fields, saw 4\\nSkipping line 447: expected 2 fields, saw 3\\nSkipping line 473: expected 2 fields, saw 4\\nSkipping line 498: expected 2 fields, saw 3\\nSkipping line 573: expected 2 fields, saw 3\\nSkipping line 630: expected 2 fields, saw 3\\nSkipping line 695: expected 2 fields, saw 3\\nSkipping line 740: expected 2 fields, saw 3\\nSkipping line 765: expected 2 fields, saw 3\\nSkipping line 826: expected 2 fields, saw 3\\nSkipping line 870: expected 2 fields, saw 3\\nSkipping line 873: expected 2 fields, saw 3\\nSkipping line 997: expected 2 fields, saw 3\\nSkipping line 1015: expected 2 fields, saw 3\\nSkipping line 1275: expected 2 fields, saw 3\\nSkipping line 1394: expected 2 fields, saw 3\\nSkipping line 1428: expected 2 fields, saw 3\\nSkipping line 1437: expected 2 fields, saw 3\\nSkipping line 1531: expected 2 fields, saw 3\\nSkipping line 1701: expected 2 fields, saw 3\\nSkipping line 1715: expected 2 fields, saw 3\\nSkipping line 1788: expected 2 fields, saw 3\\nSkipping line 1872: expected 2 fields, saw 4\\nSkipping line 1940: expected 2 fields, saw 3\\nSkipping line 2026: expected 2 fields, saw 3\\nSkipping line 2109: expected 2 fields, saw 3\\nSkipping line 2122: expected 2 fields, saw 4\\nSkipping line 2130: expected 2 fields, saw 3\\nSkipping line 2168: expected 2 fields, saw 3\\nSkipping line 2335: expected 2 fields, saw 4\\nSkipping line 2541: expected 2 fields, saw 3\\nSkipping line 2626: expected 2 fields, saw 4\\nSkipping line 2651: expected 2 fields, saw 3\\nSkipping line 2675: expected 2 fields, saw 3\\nSkipping line 2686: expected 2 fields, saw 3\\nSkipping line 2783: expected 2 fields, saw 3\\n'\n"
     ]
    }
   ],
   "source": [
    "INN_FEATURES = ['region', 'activity_field']\n",
    "VEHICLE_FEATURES = ['vin', 'brand', 'chassis_config', 'year', 'body_type', 'model', 'age']\n",
    "TRANSACTION_FEATURES = ['operation_date', 'operation_reason', 'operation_year']\n",
    "\n",
    "############################################################################################\n",
    "\n",
    "INN_INFO_PATH = '../data/processed/inn_info.parquet'\n",
    "\n",
    "%time df = pd.read_parquet('../data/processed/gibdd.parquet')\n",
    "df = df.drop('region', axis=1).rename({'Наименование':'region'}, axis=1)\n",
    "df.loc[df['inn'].isna(), 'inn'] = df.loc[df['inn'].isna(), 'activity_field'] #replace nan with \"физлицо\"\n",
    "\n",
    "inn_info = pd.read_parquet(INN_INFO_PATH)\n",
    "\n",
    "# Добавляем upper_activity из ОКВЭД до первой точки\n",
    "df_okved = pd.read_csv('/home/jovyan/remote_shared_data/dsdiag222/gibdd_dataset_raw/okved.csv', delimiter=';', error_bad_lines=False, warn_bad_lines=False)\n",
    "okved_dict = df_okved.loc[df_okved['Code'].str.split('.').str.len() == 1 & df_okved['Code'].apply(lambda x: 'РАЗДЕЛ' not in x)].set_index('Code').to_dict()['Name']\n",
    "okved_dict = defaultdict(str, okved_dict)\n",
    "inn_info.loc[~inn_info['activity_code'].isna(), 'upper_activity'] = inn_info.loc[~inn_info['activity_code'].isna(), 'activity_code'].apply(lambda x: okved_dict[x.split('.')[0]])\n",
    "\n",
    "del okved_dict, df_okved\n",
    "\n",
    "%time transaction_data = prepare_date(df, inn_info, INN_FEATURES, VEHICLE_FEATURES, TRANSACTION_FEATURES)"
   ]
  },
  {
   "cell_type": "code",
   "execution_count": 1260,
   "metadata": {},
   "outputs": [],
   "source": [
    "df_gibdd_test = pd.read_parquet('../data/processed/gibdd.parquet')"
   ]
  },
  {
   "cell_type": "code",
   "execution_count": null,
   "metadata": {},
   "outputs": [],
   "source": [
    "XTC549005H2485982"
   ]
  },
  {
   "cell_type": "code",
   "execution_count": 1360,
   "metadata": {},
   "outputs": [
    {
     "data": {
      "text/html": [
       "<div>\n",
       "<style scoped>\n",
       "    .dataframe tbody tr th:only-of-type {\n",
       "        vertical-align: middle;\n",
       "    }\n",
       "\n",
       "    .dataframe tbody tr th {\n",
       "        vertical-align: top;\n",
       "    }\n",
       "\n",
       "    .dataframe thead th {\n",
       "        text-align: right;\n",
       "    }\n",
       "</style>\n",
       "<table border=\"1\" class=\"dataframe\">\n",
       "  <thead>\n",
       "    <tr style=\"text-align: right;\">\n",
       "      <th></th>\n",
       "      <th>coato</th>\n",
       "      <th>vehicle_type</th>\n",
       "      <th>registration_date</th>\n",
       "      <th>brand</th>\n",
       "      <th>model</th>\n",
       "      <th>class</th>\n",
       "      <th>origin</th>\n",
       "      <th>chassis_config</th>\n",
       "      <th>year</th>\n",
       "      <th>vin</th>\n",
       "      <th>primary</th>\n",
       "      <th>affiliation</th>\n",
       "      <th>code</th>\n",
       "      <th>mass_max</th>\n",
       "      <th>mass_idle</th>\n",
       "      <th>inn</th>\n",
       "      <th>region</th>\n",
       "      <th>city</th>\n",
       "      <th>body_type</th>\n",
       "      <th>activity_field</th>\n",
       "      <th>Наименование</th>\n",
       "      <th>Федеральный округ до 2011</th>\n",
       "      <th>Федеральный округ</th>\n",
       "      <th>operation_reason</th>\n",
       "    </tr>\n",
       "    <tr>\n",
       "      <th>operation_date</th>\n",
       "      <th></th>\n",
       "      <th></th>\n",
       "      <th></th>\n",
       "      <th></th>\n",
       "      <th></th>\n",
       "      <th></th>\n",
       "      <th></th>\n",
       "      <th></th>\n",
       "      <th></th>\n",
       "      <th></th>\n",
       "      <th></th>\n",
       "      <th></th>\n",
       "      <th></th>\n",
       "      <th></th>\n",
       "      <th></th>\n",
       "      <th></th>\n",
       "      <th></th>\n",
       "      <th></th>\n",
       "      <th></th>\n",
       "      <th></th>\n",
       "      <th></th>\n",
       "      <th></th>\n",
       "      <th></th>\n",
       "      <th></th>\n",
       "    </tr>\n",
       "  </thead>\n",
       "  <tbody>\n",
       "    <tr>\n",
       "      <th>2017-05-12</th>\n",
       "      <td>1140</td>\n",
       "      <td>С</td>\n",
       "      <td>NaT</td>\n",
       "      <td>КАМАЗ</td>\n",
       "      <td>5490</td>\n",
       "      <td>HDT2</td>\n",
       "      <td>О</td>\n",
       "      <td>4x2</td>\n",
       "      <td>2017.0</td>\n",
       "      <td>XTC549005H2485982</td>\n",
       "      <td>11</td>\n",
       "      <td>1</td>\n",
       "      <td>None</td>\n",
       "      <td>NaN</td>\n",
       "      <td>7900.0</td>\n",
       "      <td>8603133887</td>\n",
       "      <td>None</td>\n",
       "      <td>НИЖНЕВАРТОВСК Г..</td>\n",
       "      <td>Тягач седельный</td>\n",
       "      <td>Строительная</td>\n",
       "      <td>Санкт-Петербург</td>\n",
       "      <td>Северо-Западный ФО</td>\n",
       "      <td>Северо-Западный ФО</td>\n",
       "      <td>первичная регистрация</td>\n",
       "    </tr>\n",
       "  </tbody>\n",
       "</table>\n",
       "</div>"
      ],
      "text/plain": [
       "                coato vehicle_type registration_date  brand model class  \\\n",
       "operation_date                                                            \n",
       "2017-05-12       1140            С               NaT  КАМАЗ  5490  HDT2   \n",
       "\n",
       "               origin chassis_config    year                vin  primary  \\\n",
       "operation_date                                                             \n",
       "2017-05-12          О            4x2  2017.0  XTC549005H2485982       11   \n",
       "\n",
       "               affiliation  code  mass_max  mass_idle         inn region  \\\n",
       "operation_date                                                             \n",
       "2017-05-12               1  None       NaN     7900.0  8603133887   None   \n",
       "\n",
       "                             city        body_type activity_field  \\\n",
       "operation_date                                                      \n",
       "2017-05-12      НИЖНЕВАРТОВСК Г..  Тягач седельный   Строительная   \n",
       "\n",
       "                   Наименование Федеральный округ до 2011   Федеральный округ  \\\n",
       "operation_date                                                                  \n",
       "2017-05-12      Санкт-Петербург        Северо-Западный ФО  Северо-Западный ФО   \n",
       "\n",
       "                     operation_reason  \n",
       "operation_date                         \n",
       "2017-05-12      первичная регистрация  "
      ]
     },
     "execution_count": 1360,
     "metadata": {},
     "output_type": "execute_result"
    }
   ],
   "source": [
    "df_gibdd_test[df_gibdd_test['vin'] == 'XTC549005H2485982']"
   ]
  },
  {
   "cell_type": "code",
   "execution_count": 1383,
   "metadata": {},
   "outputs": [
    {
     "data": {
      "text/html": [
       "<div>\n",
       "<style scoped>\n",
       "    .dataframe tbody tr th:only-of-type {\n",
       "        vertical-align: middle;\n",
       "    }\n",
       "\n",
       "    .dataframe tbody tr th {\n",
       "        vertical-align: top;\n",
       "    }\n",
       "\n",
       "    .dataframe thead th {\n",
       "        text-align: right;\n",
       "    }\n",
       "</style>\n",
       "<table border=\"1\" class=\"dataframe\">\n",
       "  <thead>\n",
       "    <tr style=\"text-align: right;\">\n",
       "      <th></th>\n",
       "      <th>coato</th>\n",
       "      <th>vehicle_type</th>\n",
       "      <th>registration_date</th>\n",
       "      <th>brand</th>\n",
       "      <th>model</th>\n",
       "      <th>class</th>\n",
       "      <th>origin</th>\n",
       "      <th>chassis_config</th>\n",
       "      <th>year</th>\n",
       "      <th>vin</th>\n",
       "      <th>primary</th>\n",
       "      <th>affiliation</th>\n",
       "      <th>code</th>\n",
       "      <th>mass_max</th>\n",
       "      <th>mass_idle</th>\n",
       "      <th>inn</th>\n",
       "      <th>region</th>\n",
       "      <th>city</th>\n",
       "      <th>body_type</th>\n",
       "      <th>activity_field</th>\n",
       "      <th>Наименование</th>\n",
       "      <th>Федеральный округ до 2011</th>\n",
       "      <th>Федеральный округ</th>\n",
       "      <th>operation_reason</th>\n",
       "    </tr>\n",
       "    <tr>\n",
       "      <th>operation_date</th>\n",
       "      <th></th>\n",
       "      <th></th>\n",
       "      <th></th>\n",
       "      <th></th>\n",
       "      <th></th>\n",
       "      <th></th>\n",
       "      <th></th>\n",
       "      <th></th>\n",
       "      <th></th>\n",
       "      <th></th>\n",
       "      <th></th>\n",
       "      <th></th>\n",
       "      <th></th>\n",
       "      <th></th>\n",
       "      <th></th>\n",
       "      <th></th>\n",
       "      <th></th>\n",
       "      <th></th>\n",
       "      <th></th>\n",
       "      <th></th>\n",
       "      <th></th>\n",
       "      <th></th>\n",
       "      <th></th>\n",
       "      <th></th>\n",
       "    </tr>\n",
       "  </thead>\n",
       "  <tbody>\n",
       "    <tr>\n",
       "      <th>2017-08-03</th>\n",
       "      <td>1192</td>\n",
       "      <td>С</td>\n",
       "      <td>NaT</td>\n",
       "      <td>КАМАЗ</td>\n",
       "      <td>5490</td>\n",
       "      <td>HDT2</td>\n",
       "      <td>О</td>\n",
       "      <td>4x2</td>\n",
       "      <td>2016.0</td>\n",
       "      <td>XTC549005G2477371</td>\n",
       "      <td>11</td>\n",
       "      <td>1</td>\n",
       "      <td>None</td>\n",
       "      <td>NaN</td>\n",
       "      <td>7900.0</td>\n",
       "      <td>1650276008</td>\n",
       "      <td>None</td>\n",
       "      <td>НАБЕРЕЖНЫЕ ЧЕЛНЫ Г.</td>\n",
       "      <td>Тягач седельный</td>\n",
       "      <td>Прочие</td>\n",
       "      <td>Татарстан</td>\n",
       "      <td>Приволжский ФО</td>\n",
       "      <td>Приволжский ФО</td>\n",
       "      <td>первичная регистрация</td>\n",
       "    </tr>\n",
       "    <tr>\n",
       "      <th>2019-02-28</th>\n",
       "      <td>1192</td>\n",
       "      <td>С</td>\n",
       "      <td>2019-02-28</td>\n",
       "      <td>КАМАЗ</td>\n",
       "      <td>5490</td>\n",
       "      <td>HDT2</td>\n",
       "      <td>О</td>\n",
       "      <td>4x2</td>\n",
       "      <td>2016.0</td>\n",
       "      <td>XTC549005G2477371</td>\n",
       "      <td>94</td>\n",
       "      <td>1</td>\n",
       "      <td>4</td>\n",
       "      <td>NaN</td>\n",
       "      <td>7900.0</td>\n",
       "      <td>1648038937</td>\n",
       "      <td>ЗЕЛЕНОДОЛЬСКИЙ Р-Н.</td>\n",
       "      <td>Г ЗЕЛЕНОДОЛЬСК</td>\n",
       "      <td>Тягач седельный</td>\n",
       "      <td>Коммерческие перевозки</td>\n",
       "      <td>Татарстан</td>\n",
       "      <td>Приволжский ФО</td>\n",
       "      <td>Приволжский ФО</td>\n",
       "      <td>Изменение собственника по сделкам, произведенн...</td>\n",
       "    </tr>\n",
       "    <tr>\n",
       "      <th>2020-02-26</th>\n",
       "      <td>1192</td>\n",
       "      <td>С</td>\n",
       "      <td>2020-02-26</td>\n",
       "      <td>КАМАЗ</td>\n",
       "      <td>5490</td>\n",
       "      <td>HDT2</td>\n",
       "      <td>О</td>\n",
       "      <td>4x2</td>\n",
       "      <td>2016.0</td>\n",
       "      <td>XTC549005G2477371</td>\n",
       "      <td>94</td>\n",
       "      <td>1</td>\n",
       "      <td>4.0</td>\n",
       "      <td>NaN</td>\n",
       "      <td>7900.0</td>\n",
       "      <td>1648038937</td>\n",
       "      <td>ЗЕЛЕНОДОЛЬСКИЙ Р-Н.</td>\n",
       "      <td>Г ЗЕЛЕНОДОЛЬСК</td>\n",
       "      <td>Тягач седельный</td>\n",
       "      <td>None</td>\n",
       "      <td>Татарстан</td>\n",
       "      <td>Приволжский ФО</td>\n",
       "      <td>Приволжский ФО</td>\n",
       "      <td>Изменение собственника по сделкам, произведенн...</td>\n",
       "    </tr>\n",
       "  </tbody>\n",
       "</table>\n",
       "</div>"
      ],
      "text/plain": [
       "                coato vehicle_type registration_date  brand model class  \\\n",
       "operation_date                                                            \n",
       "2017-08-03       1192            С               NaT  КАМАЗ  5490  HDT2   \n",
       "2019-02-28       1192            С        2019-02-28  КАМАЗ  5490  HDT2   \n",
       "2020-02-26       1192            С        2020-02-26  КАМАЗ  5490  HDT2   \n",
       "\n",
       "               origin chassis_config    year                vin  primary  \\\n",
       "operation_date                                                             \n",
       "2017-08-03          О            4x2  2016.0  XTC549005G2477371       11   \n",
       "2019-02-28          О            4x2  2016.0  XTC549005G2477371       94   \n",
       "2020-02-26          О            4x2  2016.0  XTC549005G2477371       94   \n",
       "\n",
       "               affiliation  code  mass_max  mass_idle         inn  \\\n",
       "operation_date                                                      \n",
       "2017-08-03               1  None       NaN     7900.0  1650276008   \n",
       "2019-02-28               1     4       NaN     7900.0  1648038937   \n",
       "2020-02-26               1   4.0       NaN     7900.0  1648038937   \n",
       "\n",
       "                             region                 city        body_type  \\\n",
       "operation_date                                                              \n",
       "2017-08-03                     None  НАБЕРЕЖНЫЕ ЧЕЛНЫ Г.  Тягач седельный   \n",
       "2019-02-28      ЗЕЛЕНОДОЛЬСКИЙ Р-Н.       Г ЗЕЛЕНОДОЛЬСК  Тягач седельный   \n",
       "2020-02-26      ЗЕЛЕНОДОЛЬСКИЙ Р-Н.       Г ЗЕЛЕНОДОЛЬСК  Тягач седельный   \n",
       "\n",
       "                        activity_field Наименование Федеральный округ до 2011  \\\n",
       "operation_date                                                                  \n",
       "2017-08-03                      Прочие    Татарстан            Приволжский ФО   \n",
       "2019-02-28      Коммерческие перевозки    Татарстан            Приволжский ФО   \n",
       "2020-02-26                        None    Татарстан            Приволжский ФО   \n",
       "\n",
       "               Федеральный округ  \\\n",
       "operation_date                     \n",
       "2017-08-03        Приволжский ФО   \n",
       "2019-02-28        Приволжский ФО   \n",
       "2020-02-26        Приволжский ФО   \n",
       "\n",
       "                                                 operation_reason  \n",
       "operation_date                                                     \n",
       "2017-08-03                                  первичная регистрация  \n",
       "2019-02-28      Изменение собственника по сделкам, произведенн...  \n",
       "2020-02-26      Изменение собственника по сделкам, произведенн...  "
      ]
     },
     "execution_count": 1383,
     "metadata": {},
     "output_type": "execute_result"
    }
   ],
   "source": [
    "df_gibdd_test[df_gibdd_test['vin'] == 'XTC549005G2477371']"
   ]
  },
  {
   "cell_type": "code",
   "execution_count": 1387,
   "metadata": {},
   "outputs": [
    {
     "data": {
      "text/html": [
       "<div>\n",
       "<style scoped>\n",
       "    .dataframe tbody tr th:only-of-type {\n",
       "        vertical-align: middle;\n",
       "    }\n",
       "\n",
       "    .dataframe tbody tr th {\n",
       "        vertical-align: top;\n",
       "    }\n",
       "\n",
       "    .dataframe thead th {\n",
       "        text-align: right;\n",
       "    }\n",
       "</style>\n",
       "<table border=\"1\" class=\"dataframe\">\n",
       "  <thead>\n",
       "    <tr style=\"text-align: right;\">\n",
       "      <th></th>\n",
       "      <th>coato</th>\n",
       "      <th>vehicle_type</th>\n",
       "      <th>registration_date</th>\n",
       "      <th>brand</th>\n",
       "      <th>model</th>\n",
       "      <th>class</th>\n",
       "      <th>origin</th>\n",
       "      <th>chassis_config</th>\n",
       "      <th>year</th>\n",
       "      <th>vin</th>\n",
       "      <th>primary</th>\n",
       "      <th>affiliation</th>\n",
       "      <th>code</th>\n",
       "      <th>mass_max</th>\n",
       "      <th>mass_idle</th>\n",
       "      <th>inn</th>\n",
       "      <th>region</th>\n",
       "      <th>city</th>\n",
       "      <th>body_type</th>\n",
       "      <th>activity_field</th>\n",
       "      <th>Наименование</th>\n",
       "      <th>Федеральный округ до 2011</th>\n",
       "      <th>Федеральный округ</th>\n",
       "      <th>operation_reason</th>\n",
       "    </tr>\n",
       "    <tr>\n",
       "      <th>operation_date</th>\n",
       "      <th></th>\n",
       "      <th></th>\n",
       "      <th></th>\n",
       "      <th></th>\n",
       "      <th></th>\n",
       "      <th></th>\n",
       "      <th></th>\n",
       "      <th></th>\n",
       "      <th></th>\n",
       "      <th></th>\n",
       "      <th></th>\n",
       "      <th></th>\n",
       "      <th></th>\n",
       "      <th></th>\n",
       "      <th></th>\n",
       "      <th></th>\n",
       "      <th></th>\n",
       "      <th></th>\n",
       "      <th></th>\n",
       "      <th></th>\n",
       "      <th></th>\n",
       "      <th></th>\n",
       "      <th></th>\n",
       "      <th></th>\n",
       "    </tr>\n",
       "  </thead>\n",
       "  <tbody>\n",
       "    <tr>\n",
       "      <th>2017-10-18</th>\n",
       "      <td>1118</td>\n",
       "      <td>С</td>\n",
       "      <td>2017-10-18</td>\n",
       "      <td>МАЗ</td>\n",
       "      <td>533605</td>\n",
       "      <td>HDT2</td>\n",
       "      <td>И</td>\n",
       "      <td>4x2</td>\n",
       "      <td>2005.0</td>\n",
       "      <td>Y3M53360550000514</td>\n",
       "      <td>94</td>\n",
       "      <td>2</td>\n",
       "      <td>1</td>\n",
       "      <td>NaN</td>\n",
       "      <td>8800.0</td>\n",
       "      <td>None</td>\n",
       "      <td>None</td>\n",
       "      <td>П ЗАГОРЯНСКИЙ</td>\n",
       "      <td>Бортовой</td>\n",
       "      <td>ФИЗ ЛИЦО</td>\n",
       "      <td>Волгоградская область</td>\n",
       "      <td>Южный ФО</td>\n",
       "      <td>Южный ФО</td>\n",
       "      <td>Изменение собственника по сделкам, произведенн...</td>\n",
       "    </tr>\n",
       "    <tr>\n",
       "      <th>2013-08-02</th>\n",
       "      <td>1125</td>\n",
       "      <td>С</td>\n",
       "      <td>2013-08-02</td>\n",
       "      <td>КАМАЗ</td>\n",
       "      <td>43118</td>\n",
       "      <td>HDT2</td>\n",
       "      <td>О</td>\n",
       "      <td>6x6</td>\n",
       "      <td>2005.0</td>\n",
       "      <td>X1F66062W50000040</td>\n",
       "      <td>12</td>\n",
       "      <td>1</td>\n",
       "      <td>51</td>\n",
       "      <td>NaN</td>\n",
       "      <td>10685.0</td>\n",
       "      <td>3818028080</td>\n",
       "      <td>УСТЬ-КУТСКИЙ</td>\n",
       "      <td>УСТЬ-КУТ</td>\n",
       "      <td>Автотопливозаправщик</td>\n",
       "      <td>None</td>\n",
       "      <td>Иркутская область</td>\n",
       "      <td>Сибирский ФО</td>\n",
       "      <td>Сибирский ФО</td>\n",
       "      <td>регистрация, снятых с учета</td>\n",
       "    </tr>\n",
       "    <tr>\n",
       "      <th>2018-04-27</th>\n",
       "      <td>1103</td>\n",
       "      <td>С</td>\n",
       "      <td>2018-04-27</td>\n",
       "      <td>КАМАЗ</td>\n",
       "      <td>6522</td>\n",
       "      <td>HDT3</td>\n",
       "      <td>О</td>\n",
       "      <td>6x4</td>\n",
       "      <td>2011.0</td>\n",
       "      <td>XTC652200B1202433</td>\n",
       "      <td>94</td>\n",
       "      <td>1</td>\n",
       "      <td>5</td>\n",
       "      <td>NaN</td>\n",
       "      <td>13950.0</td>\n",
       "      <td>7709621829</td>\n",
       "      <td>РАМЕНСКИЙ Р-Н.</td>\n",
       "      <td>С БЫКОВО</td>\n",
       "      <td>Самосвал</td>\n",
       "      <td>Строительная</td>\n",
       "      <td>Краснодарский край</td>\n",
       "      <td>Южный ФО</td>\n",
       "      <td>Южный ФО</td>\n",
       "      <td>Изменение собственника по сделкам, произведенн...</td>\n",
       "    </tr>\n",
       "    <tr>\n",
       "      <th>2013-11-07</th>\n",
       "      <td>1145</td>\n",
       "      <td>С</td>\n",
       "      <td>2001-01-01</td>\n",
       "      <td>SCANIA</td>\n",
       "      <td>R440LA</td>\n",
       "      <td>HDT3</td>\n",
       "      <td>И</td>\n",
       "      <td>4x2</td>\n",
       "      <td>2013.0</td>\n",
       "      <td>YS2R4X20005335517</td>\n",
       "      <td>11</td>\n",
       "      <td>1</td>\n",
       "      <td>4</td>\n",
       "      <td>NaN</td>\n",
       "      <td>8246.0</td>\n",
       "      <td>7805144375</td>\n",
       "      <td>ОЧАКОВО-МАТВЕЕВСКОЕ (ЗАО) Р-Н</td>\n",
       "      <td>None</td>\n",
       "      <td>Тягач седельный</td>\n",
       "      <td>Коммерческие перевозки</td>\n",
       "      <td>Москва</td>\n",
       "      <td>Центральный ФО</td>\n",
       "      <td>Центральный ФО</td>\n",
       "      <td>первичная регистрация</td>\n",
       "    </tr>\n",
       "    <tr>\n",
       "      <th>2015-12-29</th>\n",
       "      <td>1146</td>\n",
       "      <td>С</td>\n",
       "      <td>2001-01-01</td>\n",
       "      <td>SCANIA</td>\n",
       "      <td>R440CA</td>\n",
       "      <td>HDT3</td>\n",
       "      <td>И</td>\n",
       "      <td>6x4</td>\n",
       "      <td>2015.0</td>\n",
       "      <td>YS2R6X40002120618</td>\n",
       "      <td>11</td>\n",
       "      <td>1</td>\n",
       "      <td>4</td>\n",
       "      <td>NaN</td>\n",
       "      <td>9759.0</td>\n",
       "      <td>7729657870</td>\n",
       "      <td>ПРОСПЕКТ ВЕРНАДСКОГО (ЗАО) Р-Н</td>\n",
       "      <td>None</td>\n",
       "      <td>Тягач седельный</td>\n",
       "      <td>Нефтегазодобывающая</td>\n",
       "      <td>Московская область</td>\n",
       "      <td>Центральный ФО</td>\n",
       "      <td>Центральный ФО</td>\n",
       "      <td>первичная регистрация</td>\n",
       "    </tr>\n",
       "  </tbody>\n",
       "</table>\n",
       "</div>"
      ],
      "text/plain": [
       "                coato vehicle_type registration_date   brand   model class  \\\n",
       "operation_date                                                               \n",
       "2017-10-18       1118            С        2017-10-18     МАЗ  533605  HDT2   \n",
       "2013-08-02       1125            С        2013-08-02   КАМАЗ   43118  HDT2   \n",
       "2018-04-27       1103            С        2018-04-27   КАМАЗ    6522  HDT3   \n",
       "2013-11-07       1145            С        2001-01-01  SCANIA  R440LA  HDT3   \n",
       "2015-12-29       1146            С        2001-01-01  SCANIA  R440CA  HDT3   \n",
       "\n",
       "               origin chassis_config    year                vin  primary  \\\n",
       "operation_date                                                             \n",
       "2017-10-18          И            4x2  2005.0  Y3M53360550000514       94   \n",
       "2013-08-02          О            6x6  2005.0  X1F66062W50000040       12   \n",
       "2018-04-27          О            6x4  2011.0  XTC652200B1202433       94   \n",
       "2013-11-07          И            4x2  2013.0  YS2R4X20005335517       11   \n",
       "2015-12-29          И            6x4  2015.0  YS2R6X40002120618       11   \n",
       "\n",
       "               affiliation code  mass_max  mass_idle         inn  \\\n",
       "operation_date                                                     \n",
       "2017-10-18               2    1       NaN     8800.0        None   \n",
       "2013-08-02               1   51       NaN    10685.0  3818028080   \n",
       "2018-04-27               1    5       NaN    13950.0  7709621829   \n",
       "2013-11-07               1    4       NaN     8246.0  7805144375   \n",
       "2015-12-29               1    4       NaN     9759.0  7729657870   \n",
       "\n",
       "                                        region           city  \\\n",
       "operation_date                                                  \n",
       "2017-10-18                                None  П ЗАГОРЯНСКИЙ   \n",
       "2013-08-02                        УСТЬ-КУТСКИЙ       УСТЬ-КУТ   \n",
       "2018-04-27                      РАМЕНСКИЙ Р-Н.       С БЫКОВО   \n",
       "2013-11-07       ОЧАКОВО-МАТВЕЕВСКОЕ (ЗАО) Р-Н           None   \n",
       "2015-12-29      ПРОСПЕКТ ВЕРНАДСКОГО (ЗАО) Р-Н           None   \n",
       "\n",
       "                           body_type          activity_field  \\\n",
       "operation_date                                                 \n",
       "2017-10-18                  Бортовой                ФИЗ ЛИЦО   \n",
       "2013-08-02      Автотопливозаправщик                    None   \n",
       "2018-04-27                  Самосвал            Строительная   \n",
       "2013-11-07           Тягач седельный  Коммерческие перевозки   \n",
       "2015-12-29           Тягач седельный     Нефтегазодобывающая   \n",
       "\n",
       "                         Наименование Федеральный округ до 2011  \\\n",
       "operation_date                                                    \n",
       "2017-10-18      Волгоградская область                  Южный ФО   \n",
       "2013-08-02          Иркутская область              Сибирский ФО   \n",
       "2018-04-27         Краснодарский край                  Южный ФО   \n",
       "2013-11-07                     Москва            Центральный ФО   \n",
       "2015-12-29         Московская область            Центральный ФО   \n",
       "\n",
       "               Федеральный округ  \\\n",
       "operation_date                     \n",
       "2017-10-18              Южный ФО   \n",
       "2013-08-02          Сибирский ФО   \n",
       "2018-04-27              Южный ФО   \n",
       "2013-11-07        Центральный ФО   \n",
       "2015-12-29        Центральный ФО   \n",
       "\n",
       "                                                 operation_reason  \n",
       "operation_date                                                     \n",
       "2017-10-18      Изменение собственника по сделкам, произведенн...  \n",
       "2013-08-02                            регистрация, снятых с учета  \n",
       "2018-04-27      Изменение собственника по сделкам, произведенн...  \n",
       "2013-11-07                                  первичная регистрация  \n",
       "2015-12-29                                  первичная регистрация  "
      ]
     },
     "execution_count": 1387,
     "metadata": {},
     "output_type": "execute_result"
    }
   ],
   "source": [
    "df_gibdd_test.sample(5)"
   ]
  },
  {
   "cell_type": "code",
   "execution_count": 1353,
   "metadata": {},
   "outputs": [
    {
     "data": {
      "text/plain": [
       "2013.0"
      ]
     },
     "execution_count": 1353,
     "metadata": {},
     "output_type": "execute_result"
    }
   ],
   "source": [
    "df_gibdd_test[(df_gibdd_test['inn'] == '7302020969') & (df_gibdd_test['brand'] == 'SCANIA')]['year'].mean()"
   ]
  },
  {
   "cell_type": "code",
   "execution_count": 1354,
   "metadata": {},
   "outputs": [
    {
     "data": {
      "text/plain": [
       "5490      43\n",
       "54115     11\n",
       "53215      8\n",
       "53202      7\n",
       "53212      5\n",
       "5460       5\n",
       "53212А     5\n",
       "65206      4\n",
       "5320       3\n",
       "53504      3\n",
       "55111      2\n",
       "43253      2\n",
       "65117      1\n",
       "53212С     1\n",
       "Name: model, dtype: int64"
      ]
     },
     "execution_count": 1354,
     "metadata": {},
     "output_type": "execute_result"
    }
   ],
   "source": [
    "df_gibdd_test[(df_gibdd_test['inn'] == '7302020969') & (df_gibdd_test['brand'] == 'КАМАЗ')]['model'].value_counts()"
   ]
  },
  {
   "cell_type": "markdown",
   "metadata": {},
   "source": [
    "# QUERY SELLER BUYER VEHICLE TRANSACTION"
   ]
  },
  {
   "cell_type": "code",
   "execution_count": 1263,
   "metadata": {},
   "outputs": [
    {
     "data": {
      "application/vnd.jupyter.widget-view+json": {
       "model_id": "5fb7119f1ff44afa8aa61afb496e8e6b",
       "version_major": 2,
       "version_minor": 0
      },
      "text/plain": [
       "SelectMultipleInteract(children=(SelectMultiple(description='region_seller', options=(nan, 'Воронежская област…"
      ]
     },
     "metadata": {},
     "output_type": "display_data"
    }
   ],
   "source": [
    "SelectMultipleInteract(transaction_data, ['region_seller', 'activity_field_seller', 'brand', 'model', 'chassis_config'])"
   ]
  },
  {
   "cell_type": "markdown",
   "metadata": {},
   "source": [
    "### Атрибуты продавцов/покупателей (Группировка по этим атрибутам):\n",
    "    - 'inn'\n",
    "    - 'name'\n",
    "    - 'group' - Холдинг\n",
    "    - 'region'\n",
    "    - 'acitivity_field' - Вид деятельности из ГИБДД\n",
    "    - 'activity_code' - ОКВЭД из СПАРК\n",
    "    - 'activity' - Вид деятельности из СПАРК\n",
    "    - 'upper_activity' - ОКВЭД до первой точки в коде\n",
    "    - 'status'\n",
    "    - 'risk'\n",
    "    - 'size'\n",
    "\n",
    "### Атрибуты авто:\n",
    "    - 'vin'\n",
    "    - 'brand'\n",
    "    - 'chassis_config'\n",
    "    - 'year'\n",
    "    - 'body_type'\n",
    "    - 'model'\n",
    "    - 'age'\n",
    "\n",
    "### Атрибуты транзакций:\n",
    "    - 'operation_date'\n",
    "    - 'operation_reason'\n",
    "    - 'operation_year'"
   ]
  },
  {
   "cell_type": "code",
   "execution_count": 1264,
   "metadata": {},
   "outputs": [
    {
     "data": {
      "text/html": [
       "<div>\n",
       "<style scoped>\n",
       "    .dataframe tbody tr th:only-of-type {\n",
       "        vertical-align: middle;\n",
       "    }\n",
       "\n",
       "    .dataframe tbody tr th {\n",
       "        vertical-align: top;\n",
       "    }\n",
       "\n",
       "    .dataframe thead th {\n",
       "        text-align: right;\n",
       "    }\n",
       "</style>\n",
       "<table border=\"1\" class=\"dataframe\">\n",
       "  <thead>\n",
       "    <tr style=\"text-align: right;\">\n",
       "      <th></th>\n",
       "      <th>size</th>\n",
       "      <th>name</th>\n",
       "      <th>activity</th>\n",
       "      <th>status</th>\n",
       "      <th>activity_code</th>\n",
       "      <th>risk</th>\n",
       "      <th>group</th>\n",
       "      <th>upper_activity</th>\n",
       "    </tr>\n",
       "    <tr>\n",
       "      <th>inn</th>\n",
       "      <th></th>\n",
       "      <th></th>\n",
       "      <th></th>\n",
       "      <th></th>\n",
       "      <th></th>\n",
       "      <th></th>\n",
       "      <th></th>\n",
       "      <th></th>\n",
       "    </tr>\n",
       "  </thead>\n",
       "  <tbody>\n",
       "    <tr>\n",
       "      <th>1600000036</th>\n",
       "      <td>Крупные предприятия</td>\n",
       "      <td>ООО \"ГАЗПРОМ ТРАНСГАЗ КАЗАНЬ\"</td>\n",
       "      <td>Транспортирование по трубопроводам газа</td>\n",
       "      <td>Действующая</td>\n",
       "      <td>49.50.21</td>\n",
       "      <td>Низкий риск</td>\n",
       "      <td>ГАЗПРОМ, ПАО</td>\n",
       "      <td>Деятельность сухопутного и трубопроводного тра...</td>\n",
       "    </tr>\n",
       "  </tbody>\n",
       "</table>\n",
       "</div>"
      ],
      "text/plain": [
       "                           size                           name  \\\n",
       "inn                                                              \n",
       "1600000036  Крупные предприятия  ООО \"ГАЗПРОМ ТРАНСГАЗ КАЗАНЬ\"   \n",
       "\n",
       "                                           activity       status  \\\n",
       "inn                                                                \n",
       "1600000036  Транспортирование по трубопроводам газа  Действующая   \n",
       "\n",
       "           activity_code         risk         group  \\\n",
       "inn                                                   \n",
       "1600000036      49.50.21  Низкий риск  ГАЗПРОМ, ПАО   \n",
       "\n",
       "                                               upper_activity  \n",
       "inn                                                            \n",
       "1600000036  Деятельность сухопутного и трубопроводного тра...  "
      ]
     },
     "execution_count": 1264,
     "metadata": {},
     "output_type": "execute_result"
    }
   ],
   "source": [
    "inn_info[inn_info['name'] == 'ООО \"ГАЗПРОМ ТРАНСГАЗ КАЗАНЬ\"']"
   ]
  },
  {
   "cell_type": "code",
   "execution_count": 1388,
   "metadata": {},
   "outputs": [],
   "source": [
    "seller_select = {\n",
    "  'region_seller':['Татарстан'],\n",
    "    #'activity_field_seller': ['Лизинговая компания'],\n",
    "   #  'region_seller':['Татарстан'],\n",
    "   #'inn_seller':['1600000036']\n",
    "   # \"size_seller\":['Средние предприятия'],\n",
    "}\n",
    "\n",
    "buyer_select = {\n",
    "   #  'inn_buyer': ['1600000036'],#5032099538\n",
    "    'region_buyer':['Татарстан'],\n",
    "  #'activity_field_buyer': ['Лизинговая компания'],\n",
    "   # 'upper_activity_buyer' : ['Деятельность сухопутного и трубопроводного транспорта'],\n",
    "   # 'size_seller': ['Крупные предприятия'],\n",
    "}\n",
    "\n",
    "vehicle_select = {\n",
    "  'brand': ['КАМАЗ'],\n",
    "  #  'model': ['5350'],\n",
    "#    'chassis_config': ['6x4'],\n",
    "    #'year' : [2018]\n",
    "}\n",
    "\n",
    "transaction_select = {    \n",
    "   # 'operation_year':[2019]\n",
    "}\n",
    "\n",
    "seller_group = 'name_seller'\n",
    "buyer_group = 'name_buyer'"
   ]
  },
  {
   "cell_type": "code",
   "execution_count": 1389,
   "metadata": {},
   "outputs": [
    {
     "data": {
      "text/html": [
       "<div>\n",
       "<style scoped>\n",
       "    .dataframe tbody tr th:only-of-type {\n",
       "        vertical-align: middle;\n",
       "    }\n",
       "\n",
       "    .dataframe tbody tr th {\n",
       "        vertical-align: top;\n",
       "    }\n",
       "\n",
       "    .dataframe thead th {\n",
       "        text-align: right;\n",
       "    }\n",
       "</style>\n",
       "<table border=\"1\" class=\"dataframe\">\n",
       "  <thead>\n",
       "    <tr style=\"text-align: right;\">\n",
       "      <th></th>\n",
       "      <th>inn_seller</th>\n",
       "      <th>inn_buyer</th>\n",
       "      <th>region_seller</th>\n",
       "      <th>activity_field_seller</th>\n",
       "      <th>region_buyer</th>\n",
       "      <th>activity_field_buyer</th>\n",
       "      <th>vin</th>\n",
       "      <th>brand</th>\n",
       "      <th>chassis_config</th>\n",
       "      <th>year</th>\n",
       "      <th>body_type</th>\n",
       "      <th>model</th>\n",
       "      <th>operation_date</th>\n",
       "      <th>operation_reason</th>\n",
       "      <th>operation_year</th>\n",
       "      <th>size_seller</th>\n",
       "      <th>name_seller</th>\n",
       "      <th>activity_seller</th>\n",
       "      <th>status_seller</th>\n",
       "      <th>activity_code_seller</th>\n",
       "      <th>risk_seller</th>\n",
       "      <th>group_seller</th>\n",
       "      <th>upper_activity_seller</th>\n",
       "      <th>size_buyer</th>\n",
       "      <th>name_buyer</th>\n",
       "      <th>activity_buyer</th>\n",
       "      <th>status_buyer</th>\n",
       "      <th>activity_code_buyer</th>\n",
       "      <th>risk_buyer</th>\n",
       "      <th>group_buyer</th>\n",
       "      <th>upper_activity_buyer</th>\n",
       "    </tr>\n",
       "  </thead>\n",
       "  <tbody>\n",
       "    <tr>\n",
       "      <th>0</th>\n",
       "      <td>1650241446</td>\n",
       "      <td>1660170434</td>\n",
       "      <td>Татарстан</td>\n",
       "      <td>None</td>\n",
       "      <td>Татарстан</td>\n",
       "      <td>Сельское хозяйство</td>\n",
       "      <td>X89594341D0DM6018</td>\n",
       "      <td>КАМАЗ</td>\n",
       "      <td>6x4</td>\n",
       "      <td>2013.0</td>\n",
       "      <td>Цистерна</td>\n",
       "      <td>65115</td>\n",
       "      <td>2013-03-14</td>\n",
       "      <td>регистрация, снятых с учета</td>\n",
       "      <td>2013</td>\n",
       "      <td>NaN</td>\n",
       "      <td>1650241446</td>\n",
       "      <td>NaN</td>\n",
       "      <td>NaN</td>\n",
       "      <td>NaN</td>\n",
       "      <td>NaN</td>\n",
       "      <td>1650241446</td>\n",
       "      <td>NaN</td>\n",
       "      <td>NaN</td>\n",
       "      <td>1660170434</td>\n",
       "      <td>NaN</td>\n",
       "      <td>NaN</td>\n",
       "      <td>NaN</td>\n",
       "      <td>NaN</td>\n",
       "      <td>1660170434</td>\n",
       "      <td>NaN</td>\n",
       "    </tr>\n",
       "    <tr>\n",
       "      <th>1</th>\n",
       "      <td>1650241446</td>\n",
       "      <td>1655232702</td>\n",
       "      <td>Татарстан</td>\n",
       "      <td>None</td>\n",
       "      <td>Татарстан</td>\n",
       "      <td>None</td>\n",
       "      <td>X89594341D0DM6059</td>\n",
       "      <td>КАМАЗ</td>\n",
       "      <td>6x4</td>\n",
       "      <td>2013.0</td>\n",
       "      <td>Грузовые прочие</td>\n",
       "      <td>53215</td>\n",
       "      <td>2013-03-18</td>\n",
       "      <td>регистрация, снятых с учета</td>\n",
       "      <td>2013</td>\n",
       "      <td>NaN</td>\n",
       "      <td>1650241446</td>\n",
       "      <td>NaN</td>\n",
       "      <td>NaN</td>\n",
       "      <td>NaN</td>\n",
       "      <td>NaN</td>\n",
       "      <td>1650241446</td>\n",
       "      <td>NaN</td>\n",
       "      <td>NaN</td>\n",
       "      <td>1655232702</td>\n",
       "      <td>NaN</td>\n",
       "      <td>NaN</td>\n",
       "      <td>NaN</td>\n",
       "      <td>NaN</td>\n",
       "      <td>1655232702</td>\n",
       "      <td>NaN</td>\n",
       "    </tr>\n",
       "    <tr>\n",
       "      <th>2</th>\n",
       "      <td>1648018296</td>\n",
       "      <td>1620001013</td>\n",
       "      <td>Татарстан</td>\n",
       "      <td>Сельское хозяйство</td>\n",
       "      <td>Татарстан</td>\n",
       "      <td>Сельское хозяйство</td>\n",
       "      <td>X9H47415EA0000044</td>\n",
       "      <td>КАМАЗ</td>\n",
       "      <td>4x2</td>\n",
       "      <td>2010.0</td>\n",
       "      <td>Фургон</td>\n",
       "      <td>4308</td>\n",
       "      <td>2013-03-27</td>\n",
       "      <td>Изменение собственника по сделкам, произведенн...</td>\n",
       "      <td>2013</td>\n",
       "      <td>NaN</td>\n",
       "      <td>1648018296</td>\n",
       "      <td>NaN</td>\n",
       "      <td>NaN</td>\n",
       "      <td>NaN</td>\n",
       "      <td>NaN</td>\n",
       "      <td>1648018296</td>\n",
       "      <td>NaN</td>\n",
       "      <td>NaN</td>\n",
       "      <td>1620001013</td>\n",
       "      <td>NaN</td>\n",
       "      <td>NaN</td>\n",
       "      <td>NaN</td>\n",
       "      <td>NaN</td>\n",
       "      <td>1620001013</td>\n",
       "      <td>NaN</td>\n",
       "    </tr>\n",
       "    <tr>\n",
       "      <th>3</th>\n",
       "      <td>1648018296</td>\n",
       "      <td>1620001013</td>\n",
       "      <td>Татарстан</td>\n",
       "      <td>Сельское хозяйство</td>\n",
       "      <td>Татарстан</td>\n",
       "      <td>Сельское хозяйство</td>\n",
       "      <td>X9H47415NA0000068</td>\n",
       "      <td>КАМАЗ</td>\n",
       "      <td>6x4</td>\n",
       "      <td>2010.0</td>\n",
       "      <td>Изотермический фургон</td>\n",
       "      <td>65115</td>\n",
       "      <td>2013-03-27</td>\n",
       "      <td>Изменение собственника по сделкам, произведенн...</td>\n",
       "      <td>2013</td>\n",
       "      <td>NaN</td>\n",
       "      <td>1648018296</td>\n",
       "      <td>NaN</td>\n",
       "      <td>NaN</td>\n",
       "      <td>NaN</td>\n",
       "      <td>NaN</td>\n",
       "      <td>1648018296</td>\n",
       "      <td>NaN</td>\n",
       "      <td>NaN</td>\n",
       "      <td>1620001013</td>\n",
       "      <td>NaN</td>\n",
       "      <td>NaN</td>\n",
       "      <td>NaN</td>\n",
       "      <td>NaN</td>\n",
       "      <td>1620001013</td>\n",
       "      <td>NaN</td>\n",
       "    </tr>\n",
       "    <tr>\n",
       "      <th>4</th>\n",
       "      <td>1648018296</td>\n",
       "      <td>1620001013</td>\n",
       "      <td>Татарстан</td>\n",
       "      <td>Сельское хозяйство</td>\n",
       "      <td>Татарстан</td>\n",
       "      <td>Сельское хозяйство</td>\n",
       "      <td>X9H47415EA0000048</td>\n",
       "      <td>КАМАЗ</td>\n",
       "      <td>4x2</td>\n",
       "      <td>2010.0</td>\n",
       "      <td>Фургон</td>\n",
       "      <td>4308</td>\n",
       "      <td>2013-03-27</td>\n",
       "      <td>Изменение собственника по сделкам, произведенн...</td>\n",
       "      <td>2013</td>\n",
       "      <td>NaN</td>\n",
       "      <td>1648018296</td>\n",
       "      <td>NaN</td>\n",
       "      <td>NaN</td>\n",
       "      <td>NaN</td>\n",
       "      <td>NaN</td>\n",
       "      <td>1648018296</td>\n",
       "      <td>NaN</td>\n",
       "      <td>NaN</td>\n",
       "      <td>1620001013</td>\n",
       "      <td>NaN</td>\n",
       "      <td>NaN</td>\n",
       "      <td>NaN</td>\n",
       "      <td>NaN</td>\n",
       "      <td>1620001013</td>\n",
       "      <td>NaN</td>\n",
       "    </tr>\n",
       "    <tr>\n",
       "      <th>...</th>\n",
       "      <td>...</td>\n",
       "      <td>...</td>\n",
       "      <td>...</td>\n",
       "      <td>...</td>\n",
       "      <td>...</td>\n",
       "      <td>...</td>\n",
       "      <td>...</td>\n",
       "      <td>...</td>\n",
       "      <td>...</td>\n",
       "      <td>...</td>\n",
       "      <td>...</td>\n",
       "      <td>...</td>\n",
       "      <td>...</td>\n",
       "      <td>...</td>\n",
       "      <td>...</td>\n",
       "      <td>...</td>\n",
       "      <td>...</td>\n",
       "      <td>...</td>\n",
       "      <td>...</td>\n",
       "      <td>...</td>\n",
       "      <td>...</td>\n",
       "      <td>...</td>\n",
       "      <td>...</td>\n",
       "      <td>...</td>\n",
       "      <td>...</td>\n",
       "      <td>...</td>\n",
       "      <td>...</td>\n",
       "      <td>...</td>\n",
       "      <td>...</td>\n",
       "      <td>...</td>\n",
       "      <td>...</td>\n",
       "    </tr>\n",
       "    <tr>\n",
       "      <th>4566</th>\n",
       "      <td>1650081520</td>\n",
       "      <td>1643007526</td>\n",
       "      <td>Татарстан</td>\n",
       "      <td>Коммерческие перевозки</td>\n",
       "      <td>Татарстан</td>\n",
       "      <td>None</td>\n",
       "      <td>X8978920KH0FG2015</td>\n",
       "      <td>КАМАЗ</td>\n",
       "      <td>6x6</td>\n",
       "      <td>2017.0</td>\n",
       "      <td>Агрегат для депарафинизации скважин</td>\n",
       "      <td>43118</td>\n",
       "      <td>2020-03-27</td>\n",
       "      <td>Изменение собственника по сделкам, произведенн...</td>\n",
       "      <td>2020</td>\n",
       "      <td>Крупные предприятия</td>\n",
       "      <td>ОАО \"РИАТ\"</td>\n",
       "      <td>Производство грузовых автомобилей</td>\n",
       "      <td>Действующая</td>\n",
       "      <td>29.10.4</td>\n",
       "      <td>Низкий риск</td>\n",
       "      <td>ОАО \"РИАТ\"</td>\n",
       "      <td>Производство автотранспортных средств, прицепо...</td>\n",
       "      <td>Микропредприятия</td>\n",
       "      <td>ООО \"КОЙЛ-СЕРВИС\"</td>\n",
       "      <td>Ремонт машин и оборудования</td>\n",
       "      <td>Действующая</td>\n",
       "      <td>33.12</td>\n",
       "      <td>Низкий риск</td>\n",
       "      <td>ООО \"КОЙЛ-СЕРВИС\"</td>\n",
       "      <td>Ремонт и монтаж машин и оборудования</td>\n",
       "    </tr>\n",
       "    <tr>\n",
       "      <th>4567</th>\n",
       "      <td>ФИЗ ЛИЦО</td>\n",
       "      <td>1644087637</td>\n",
       "      <td>Татарстан</td>\n",
       "      <td>ФИЗ ЛИЦО</td>\n",
       "      <td>Татарстан</td>\n",
       "      <td>None</td>\n",
       "      <td>X89F46A05F0AA3002</td>\n",
       "      <td>КАМАЗ</td>\n",
       "      <td>4x2</td>\n",
       "      <td>2015.0</td>\n",
       "      <td>Спец</td>\n",
       "      <td>53605</td>\n",
       "      <td>2020-03-27</td>\n",
       "      <td>Изменение собственника по сделкам, произведенн...</td>\n",
       "      <td>2020</td>\n",
       "      <td>NaN</td>\n",
       "      <td>ФИЗ ЛИЦО</td>\n",
       "      <td>NaN</td>\n",
       "      <td>NaN</td>\n",
       "      <td>NaN</td>\n",
       "      <td>NaN</td>\n",
       "      <td>ФИЗ ЛИЦО</td>\n",
       "      <td>NaN</td>\n",
       "      <td>Микропредприятия</td>\n",
       "      <td>ООО \"ЭКОСПЕЦТРАНС\"</td>\n",
       "      <td>Деятельность автомобильного грузового транспор...</td>\n",
       "      <td>Действующая</td>\n",
       "      <td>49.4</td>\n",
       "      <td>Низкий риск</td>\n",
       "      <td>ООО \"ЭКОСПЕЦТРАНС\"</td>\n",
       "      <td>Деятельность сухопутного и трубопроводного тра...</td>\n",
       "    </tr>\n",
       "    <tr>\n",
       "      <th>4568</th>\n",
       "      <td>ФИЗ ЛИЦО</td>\n",
       "      <td>1644087637</td>\n",
       "      <td>Татарстан</td>\n",
       "      <td>ФИЗ ЛИЦО</td>\n",
       "      <td>Татарстан</td>\n",
       "      <td>None</td>\n",
       "      <td>X89F46A05F0AA3001</td>\n",
       "      <td>КАМАЗ</td>\n",
       "      <td>4x2</td>\n",
       "      <td>2015.0</td>\n",
       "      <td>Спец</td>\n",
       "      <td>53605</td>\n",
       "      <td>2020-03-27</td>\n",
       "      <td>Изменение собственника по сделкам, произведенн...</td>\n",
       "      <td>2020</td>\n",
       "      <td>NaN</td>\n",
       "      <td>ФИЗ ЛИЦО</td>\n",
       "      <td>NaN</td>\n",
       "      <td>NaN</td>\n",
       "      <td>NaN</td>\n",
       "      <td>NaN</td>\n",
       "      <td>ФИЗ ЛИЦО</td>\n",
       "      <td>NaN</td>\n",
       "      <td>Микропредприятия</td>\n",
       "      <td>ООО \"ЭКОСПЕЦТРАНС\"</td>\n",
       "      <td>Деятельность автомобильного грузового транспор...</td>\n",
       "      <td>Действующая</td>\n",
       "      <td>49.4</td>\n",
       "      <td>Низкий риск</td>\n",
       "      <td>ООО \"ЭКОСПЕЦТРАНС\"</td>\n",
       "      <td>Деятельность сухопутного и трубопроводного тра...</td>\n",
       "    </tr>\n",
       "    <tr>\n",
       "      <th>4569</th>\n",
       "      <td>8904035523</td>\n",
       "      <td>6315602320</td>\n",
       "      <td>Татарстан</td>\n",
       "      <td>Строительная</td>\n",
       "      <td>Татарстан</td>\n",
       "      <td>None</td>\n",
       "      <td>XTC652200A1191001</td>\n",
       "      <td>КАМАЗ</td>\n",
       "      <td>6x6</td>\n",
       "      <td>2010.0</td>\n",
       "      <td>Самосвал</td>\n",
       "      <td>6522</td>\n",
       "      <td>2020-03-28</td>\n",
       "      <td>регистрация, снятых с учета</td>\n",
       "      <td>2020</td>\n",
       "      <td>Крупные предприятия</td>\n",
       "      <td>ООО \"РОСДОРСТРОЙ\",ООО \"РДС\"</td>\n",
       "      <td>Производство земляных работ</td>\n",
       "      <td>Действующая</td>\n",
       "      <td>43.12.3</td>\n",
       "      <td>Низкий риск</td>\n",
       "      <td>ООО \"РОСДОРСТРОЙ\",ООО \"РДС\"</td>\n",
       "      <td>Работы строительные специализированные</td>\n",
       "      <td>Средние предприятия</td>\n",
       "      <td>ООО\"ЭКСПЕРТ\"</td>\n",
       "      <td>Ремонт электрического оборудования</td>\n",
       "      <td>Действующая</td>\n",
       "      <td>33.14</td>\n",
       "      <td>Низкий риск</td>\n",
       "      <td>ООО\"ЭКСПЕРТ\"</td>\n",
       "      <td>Ремонт и монтаж машин и оборудования</td>\n",
       "    </tr>\n",
       "    <tr>\n",
       "      <th>4570</th>\n",
       "      <td>ФИЗ ЛИЦО</td>\n",
       "      <td>1660263167</td>\n",
       "      <td>Татарстан</td>\n",
       "      <td>ФИЗ ЛИЦО</td>\n",
       "      <td>Татарстан</td>\n",
       "      <td>None</td>\n",
       "      <td>X1F651173D0000013</td>\n",
       "      <td>КАМАЗ</td>\n",
       "      <td>6x4</td>\n",
       "      <td>2013.0</td>\n",
       "      <td>Бортовой</td>\n",
       "      <td>65117</td>\n",
       "      <td>2020-03-28</td>\n",
       "      <td>Изменение собственника по сделкам, произведенн...</td>\n",
       "      <td>2020</td>\n",
       "      <td>NaN</td>\n",
       "      <td>ФИЗ ЛИЦО</td>\n",
       "      <td>NaN</td>\n",
       "      <td>NaN</td>\n",
       "      <td>NaN</td>\n",
       "      <td>NaN</td>\n",
       "      <td>ФИЗ ЛИЦО</td>\n",
       "      <td>NaN</td>\n",
       "      <td>None</td>\n",
       "      <td>ООО \"ТАТАГРО РУС\"</td>\n",
       "      <td>Торговля оптовая удобрениями и агрохимическими...</td>\n",
       "      <td>Действующая</td>\n",
       "      <td>46.75.1</td>\n",
       "      <td>Низкий риск</td>\n",
       "      <td>ООО \"ТАТАГРО РУС\"</td>\n",
       "      <td>Торговля оптовая, кроме оптовой торговли автот...</td>\n",
       "    </tr>\n",
       "  </tbody>\n",
       "</table>\n",
       "<p>4571 rows × 31 columns</p>\n",
       "</div>"
      ],
      "text/plain": [
       "      inn_seller   inn_buyer region_seller   activity_field_seller  \\\n",
       "0     1650241446  1660170434     Татарстан                    None   \n",
       "1     1650241446  1655232702     Татарстан                    None   \n",
       "2     1648018296  1620001013     Татарстан      Сельское хозяйство   \n",
       "3     1648018296  1620001013     Татарстан      Сельское хозяйство   \n",
       "4     1648018296  1620001013     Татарстан      Сельское хозяйство   \n",
       "...          ...         ...           ...                     ...   \n",
       "4566  1650081520  1643007526     Татарстан  Коммерческие перевозки   \n",
       "4567    ФИЗ ЛИЦО  1644087637     Татарстан                ФИЗ ЛИЦО   \n",
       "4568    ФИЗ ЛИЦО  1644087637     Татарстан                ФИЗ ЛИЦО   \n",
       "4569  8904035523  6315602320     Татарстан            Строительная   \n",
       "4570    ФИЗ ЛИЦО  1660263167     Татарстан                ФИЗ ЛИЦО   \n",
       "\n",
       "     region_buyer activity_field_buyer                vin  brand  \\\n",
       "0       Татарстан   Сельское хозяйство  X89594341D0DM6018  КАМАЗ   \n",
       "1       Татарстан                 None  X89594341D0DM6059  КАМАЗ   \n",
       "2       Татарстан   Сельское хозяйство  X9H47415EA0000044  КАМАЗ   \n",
       "3       Татарстан   Сельское хозяйство  X9H47415NA0000068  КАМАЗ   \n",
       "4       Татарстан   Сельское хозяйство  X9H47415EA0000048  КАМАЗ   \n",
       "...           ...                  ...                ...    ...   \n",
       "4566    Татарстан                 None  X8978920KH0FG2015  КАМАЗ   \n",
       "4567    Татарстан                 None  X89F46A05F0AA3002  КАМАЗ   \n",
       "4568    Татарстан                 None  X89F46A05F0AA3001  КАМАЗ   \n",
       "4569    Татарстан                 None  XTC652200A1191001  КАМАЗ   \n",
       "4570    Татарстан                 None  X1F651173D0000013  КАМАЗ   \n",
       "\n",
       "     chassis_config    year                            body_type  model  \\\n",
       "0               6x4  2013.0                             Цистерна  65115   \n",
       "1               6x4  2013.0                      Грузовые прочие  53215   \n",
       "2               4x2  2010.0                               Фургон   4308   \n",
       "3               6x4  2010.0                Изотермический фургон  65115   \n",
       "4               4x2  2010.0                               Фургон   4308   \n",
       "...             ...     ...                                  ...    ...   \n",
       "4566            6x6  2017.0  Агрегат для депарафинизации скважин  43118   \n",
       "4567            4x2  2015.0                                 Спец  53605   \n",
       "4568            4x2  2015.0                                 Спец  53605   \n",
       "4569            6x6  2010.0                             Самосвал   6522   \n",
       "4570            6x4  2013.0                             Бортовой  65117   \n",
       "\n",
       "     operation_date                                   operation_reason  \\\n",
       "0        2013-03-14                        регистрация, снятых с учета   \n",
       "1        2013-03-18                        регистрация, снятых с учета   \n",
       "2        2013-03-27  Изменение собственника по сделкам, произведенн...   \n",
       "3        2013-03-27  Изменение собственника по сделкам, произведенн...   \n",
       "4        2013-03-27  Изменение собственника по сделкам, произведенн...   \n",
       "...             ...                                                ...   \n",
       "4566     2020-03-27  Изменение собственника по сделкам, произведенн...   \n",
       "4567     2020-03-27  Изменение собственника по сделкам, произведенн...   \n",
       "4568     2020-03-27  Изменение собственника по сделкам, произведенн...   \n",
       "4569     2020-03-28                        регистрация, снятых с учета   \n",
       "4570     2020-03-28  Изменение собственника по сделкам, произведенн...   \n",
       "\n",
       "      operation_year          size_seller                  name_seller  \\\n",
       "0               2013                  NaN                   1650241446   \n",
       "1               2013                  NaN                   1650241446   \n",
       "2               2013                  NaN                   1648018296   \n",
       "3               2013                  NaN                   1648018296   \n",
       "4               2013                  NaN                   1648018296   \n",
       "...              ...                  ...                          ...   \n",
       "4566            2020  Крупные предприятия                   ОАО \"РИАТ\"   \n",
       "4567            2020                  NaN                     ФИЗ ЛИЦО   \n",
       "4568            2020                  NaN                     ФИЗ ЛИЦО   \n",
       "4569            2020  Крупные предприятия  ООО \"РОСДОРСТРОЙ\",ООО \"РДС\"   \n",
       "4570            2020                  NaN                     ФИЗ ЛИЦО   \n",
       "\n",
       "                        activity_seller status_seller activity_code_seller  \\\n",
       "0                                   NaN           NaN                  NaN   \n",
       "1                                   NaN           NaN                  NaN   \n",
       "2                                   NaN           NaN                  NaN   \n",
       "3                                   NaN           NaN                  NaN   \n",
       "4                                   NaN           NaN                  NaN   \n",
       "...                                 ...           ...                  ...   \n",
       "4566  Производство грузовых автомобилей   Действующая              29.10.4   \n",
       "4567                                NaN           NaN                  NaN   \n",
       "4568                                NaN           NaN                  NaN   \n",
       "4569        Производство земляных работ   Действующая              43.12.3   \n",
       "4570                                NaN           NaN                  NaN   \n",
       "\n",
       "      risk_seller                 group_seller  \\\n",
       "0             NaN                   1650241446   \n",
       "1             NaN                   1650241446   \n",
       "2             NaN                   1648018296   \n",
       "3             NaN                   1648018296   \n",
       "4             NaN                   1648018296   \n",
       "...           ...                          ...   \n",
       "4566  Низкий риск                   ОАО \"РИАТ\"   \n",
       "4567          NaN                     ФИЗ ЛИЦО   \n",
       "4568          NaN                     ФИЗ ЛИЦО   \n",
       "4569  Низкий риск  ООО \"РОСДОРСТРОЙ\",ООО \"РДС\"   \n",
       "4570          NaN                     ФИЗ ЛИЦО   \n",
       "\n",
       "                                  upper_activity_seller           size_buyer  \\\n",
       "0                                                   NaN                  NaN   \n",
       "1                                                   NaN                  NaN   \n",
       "2                                                   NaN                  NaN   \n",
       "3                                                   NaN                  NaN   \n",
       "4                                                   NaN                  NaN   \n",
       "...                                                 ...                  ...   \n",
       "4566  Производство автотранспортных средств, прицепо...     Микропредприятия   \n",
       "4567                                                NaN     Микропредприятия   \n",
       "4568                                                NaN     Микропредприятия   \n",
       "4569            Работы строительные специализированные   Средние предприятия   \n",
       "4570                                                NaN                 None   \n",
       "\n",
       "              name_buyer                                     activity_buyer  \\\n",
       "0             1660170434                                                NaN   \n",
       "1             1655232702                                                NaN   \n",
       "2             1620001013                                                NaN   \n",
       "3             1620001013                                                NaN   \n",
       "4             1620001013                                                NaN   \n",
       "...                  ...                                                ...   \n",
       "4566   ООО \"КОЙЛ-СЕРВИС\"                        Ремонт машин и оборудования   \n",
       "4567  ООО \"ЭКОСПЕЦТРАНС\"  Деятельность автомобильного грузового транспор...   \n",
       "4568  ООО \"ЭКОСПЕЦТРАНС\"  Деятельность автомобильного грузового транспор...   \n",
       "4569        ООО\"ЭКСПЕРТ\"                 Ремонт электрического оборудования   \n",
       "4570   ООО \"ТАТАГРО РУС\"  Торговля оптовая удобрениями и агрохимическими...   \n",
       "\n",
       "     status_buyer activity_code_buyer   risk_buyer         group_buyer  \\\n",
       "0             NaN                 NaN          NaN          1660170434   \n",
       "1             NaN                 NaN          NaN          1655232702   \n",
       "2             NaN                 NaN          NaN          1620001013   \n",
       "3             NaN                 NaN          NaN          1620001013   \n",
       "4             NaN                 NaN          NaN          1620001013   \n",
       "...           ...                 ...          ...                 ...   \n",
       "4566  Действующая               33.12  Низкий риск   ООО \"КОЙЛ-СЕРВИС\"   \n",
       "4567  Действующая                49.4  Низкий риск  ООО \"ЭКОСПЕЦТРАНС\"   \n",
       "4568  Действующая                49.4  Низкий риск  ООО \"ЭКОСПЕЦТРАНС\"   \n",
       "4569  Действующая               33.14  Низкий риск        ООО\"ЭКСПЕРТ\"   \n",
       "4570  Действующая             46.75.1  Низкий риск   ООО \"ТАТАГРО РУС\"   \n",
       "\n",
       "                                   upper_activity_buyer  \n",
       "0                                                   NaN  \n",
       "1                                                   NaN  \n",
       "2                                                   NaN  \n",
       "3                                                   NaN  \n",
       "4                                                   NaN  \n",
       "...                                                 ...  \n",
       "4566              Ремонт и монтаж машин и оборудования   \n",
       "4567  Деятельность сухопутного и трубопроводного тра...  \n",
       "4568  Деятельность сухопутного и трубопроводного тра...  \n",
       "4569              Ремонт и монтаж машин и оборудования   \n",
       "4570  Торговля оптовая, кроме оптовой торговли автот...  \n",
       "\n",
       "[4571 rows x 31 columns]"
      ]
     },
     "metadata": {},
     "output_type": "display_data"
    },
    {
     "name": "stdout",
     "output_type": "stream",
     "text": [
      "(4571, 31)\n"
     ]
    }
   ],
   "source": [
    "tmp = dataframe_select(\n",
    "    transaction_data, \n",
    "        [\n",
    "            seller_select,\n",
    "            buyer_select,\n",
    "            vehicle_select,\n",
    "            transaction_select\n",
    "        ])\n",
    "display(tmp)\n",
    "print(tmp.shape)"
   ]
  },
  {
   "cell_type": "code",
   "execution_count": 1382,
   "metadata": {},
   "outputs": [
    {
     "data": {
      "text/html": [
       "<div>\n",
       "<style scoped>\n",
       "    .dataframe tbody tr th:only-of-type {\n",
       "        vertical-align: middle;\n",
       "    }\n",
       "\n",
       "    .dataframe tbody tr th {\n",
       "        vertical-align: top;\n",
       "    }\n",
       "\n",
       "    .dataframe thead th {\n",
       "        text-align: right;\n",
       "    }\n",
       "</style>\n",
       "<table border=\"1\" class=\"dataframe\">\n",
       "  <thead>\n",
       "    <tr style=\"text-align: right;\">\n",
       "      <th></th>\n",
       "      <th>inn_seller</th>\n",
       "      <th>inn_buyer</th>\n",
       "      <th>region_seller</th>\n",
       "      <th>activity_field_seller</th>\n",
       "      <th>region_buyer</th>\n",
       "      <th>activity_field_buyer</th>\n",
       "      <th>vin</th>\n",
       "      <th>brand</th>\n",
       "      <th>chassis_config</th>\n",
       "      <th>year</th>\n",
       "      <th>body_type</th>\n",
       "      <th>model</th>\n",
       "      <th>operation_date</th>\n",
       "      <th>operation_reason</th>\n",
       "      <th>operation_year</th>\n",
       "      <th>size_seller</th>\n",
       "      <th>name_seller</th>\n",
       "      <th>activity_seller</th>\n",
       "      <th>status_seller</th>\n",
       "      <th>activity_code_seller</th>\n",
       "      <th>risk_seller</th>\n",
       "      <th>group_seller</th>\n",
       "      <th>upper_activity_seller</th>\n",
       "      <th>size_buyer</th>\n",
       "      <th>name_buyer</th>\n",
       "      <th>activity_buyer</th>\n",
       "      <th>status_buyer</th>\n",
       "      <th>activity_code_buyer</th>\n",
       "      <th>risk_buyer</th>\n",
       "      <th>group_buyer</th>\n",
       "      <th>upper_activity_buyer</th>\n",
       "    </tr>\n",
       "  </thead>\n",
       "  <tbody>\n",
       "    <tr>\n",
       "      <th>1368680</th>\n",
       "      <td>1650327358</td>\n",
       "      <td>1650374397</td>\n",
       "      <td>Татарстан</td>\n",
       "      <td>Коммерческие перевозки</td>\n",
       "      <td>Татарстан</td>\n",
       "      <td>Коммерческие перевозки</td>\n",
       "      <td>X9H47415EG9000167</td>\n",
       "      <td>КАМАЗ</td>\n",
       "      <td>4x2</td>\n",
       "      <td>2016.0</td>\n",
       "      <td>Фургон</td>\n",
       "      <td>4308</td>\n",
       "      <td>2019-02-12</td>\n",
       "      <td>Изменение собственника по сделкам, произведенн...</td>\n",
       "      <td>2019</td>\n",
       "      <td>Микропредприятия</td>\n",
       "      <td>ООО \"СПЕЦАВТО-М\"</td>\n",
       "      <td>Торговля оптовая автомобильными деталями, узла...</td>\n",
       "      <td>Действующая</td>\n",
       "      <td>45.31.1</td>\n",
       "      <td>Низкий риск</td>\n",
       "      <td>ООО \"СПЕЦАВТО-М\"</td>\n",
       "      <td>Торговля оптовая и розничная автотранспортными...</td>\n",
       "      <td>Микропредприятия</td>\n",
       "      <td>ООО \"СПЕЦТРАНСАВТО\"</td>\n",
       "      <td>Деятельность автомобильного грузового транспорта</td>\n",
       "      <td>Действующая</td>\n",
       "      <td>49.41</td>\n",
       "      <td>Средний риск</td>\n",
       "      <td>ООО \"СПЕЦТРАНСАВТО\"</td>\n",
       "      <td>Деятельность сухопутного и трубопроводного тра...</td>\n",
       "    </tr>\n",
       "    <tr>\n",
       "      <th>1390823</th>\n",
       "      <td>ФИЗ ЛИЦО</td>\n",
       "      <td>1650374397</td>\n",
       "      <td>Московская область</td>\n",
       "      <td>ФИЗ ЛИЦО</td>\n",
       "      <td>Московская область</td>\n",
       "      <td>Коммерческие перевозки</td>\n",
       "      <td>X9H476700DC000030</td>\n",
       "      <td>HINO</td>\n",
       "      <td>4x2</td>\n",
       "      <td>2013.0</td>\n",
       "      <td>Фургон</td>\n",
       "      <td>500</td>\n",
       "      <td>2019-03-15</td>\n",
       "      <td>Изменение собственника по сделкам, произведенн...</td>\n",
       "      <td>2019</td>\n",
       "      <td>NaN</td>\n",
       "      <td>ФИЗ ЛИЦО</td>\n",
       "      <td>NaN</td>\n",
       "      <td>NaN</td>\n",
       "      <td>NaN</td>\n",
       "      <td>NaN</td>\n",
       "      <td>ФИЗ ЛИЦО</td>\n",
       "      <td>NaN</td>\n",
       "      <td>Микропредприятия</td>\n",
       "      <td>ООО \"СПЕЦТРАНСАВТО\"</td>\n",
       "      <td>Деятельность автомобильного грузового транспорта</td>\n",
       "      <td>Действующая</td>\n",
       "      <td>49.41</td>\n",
       "      <td>Средний риск</td>\n",
       "      <td>ООО \"СПЕЦТРАНСАВТО\"</td>\n",
       "      <td>Деятельность сухопутного и трубопроводного тра...</td>\n",
       "    </tr>\n",
       "    <tr>\n",
       "      <th>1591302</th>\n",
       "      <td>1650327358</td>\n",
       "      <td>1650374397</td>\n",
       "      <td>Татарстан</td>\n",
       "      <td>Коммерческие перевозки</td>\n",
       "      <td>Татарстан</td>\n",
       "      <td>None</td>\n",
       "      <td>X9H47415EG9000147</td>\n",
       "      <td>КАМАЗ</td>\n",
       "      <td>4x2</td>\n",
       "      <td>2016.0</td>\n",
       "      <td>Фургон</td>\n",
       "      <td>4308</td>\n",
       "      <td>2019-12-27</td>\n",
       "      <td>Изменение собственника по сделкам, произведенн...</td>\n",
       "      <td>2019</td>\n",
       "      <td>Микропредприятия</td>\n",
       "      <td>ООО \"СПЕЦАВТО-М\"</td>\n",
       "      <td>Торговля оптовая автомобильными деталями, узла...</td>\n",
       "      <td>Действующая</td>\n",
       "      <td>45.31.1</td>\n",
       "      <td>Низкий риск</td>\n",
       "      <td>ООО \"СПЕЦАВТО-М\"</td>\n",
       "      <td>Торговля оптовая и розничная автотранспортными...</td>\n",
       "      <td>Микропредприятия</td>\n",
       "      <td>ООО \"СПЕЦТРАНСАВТО\"</td>\n",
       "      <td>Деятельность автомобильного грузового транспорта</td>\n",
       "      <td>Действующая</td>\n",
       "      <td>49.41</td>\n",
       "      <td>Средний риск</td>\n",
       "      <td>ООО \"СПЕЦТРАНСАВТО\"</td>\n",
       "      <td>Деятельность сухопутного и трубопроводного тра...</td>\n",
       "    </tr>\n",
       "  </tbody>\n",
       "</table>\n",
       "</div>"
      ],
      "text/plain": [
       "         inn_seller   inn_buyer       region_seller   activity_field_seller  \\\n",
       "1368680  1650327358  1650374397           Татарстан  Коммерческие перевозки   \n",
       "1390823    ФИЗ ЛИЦО  1650374397  Московская область                ФИЗ ЛИЦО   \n",
       "1591302  1650327358  1650374397           Татарстан  Коммерческие перевозки   \n",
       "\n",
       "               region_buyer    activity_field_buyer                vin  brand  \\\n",
       "1368680           Татарстан  Коммерческие перевозки  X9H47415EG9000167  КАМАЗ   \n",
       "1390823  Московская область  Коммерческие перевозки  X9H476700DC000030   HINO   \n",
       "1591302           Татарстан                    None  X9H47415EG9000147  КАМАЗ   \n",
       "\n",
       "        chassis_config    year body_type model operation_date  \\\n",
       "1368680            4x2  2016.0    Фургон  4308     2019-02-12   \n",
       "1390823            4x2  2013.0    Фургон   500     2019-03-15   \n",
       "1591302            4x2  2016.0    Фургон  4308     2019-12-27   \n",
       "\n",
       "                                          operation_reason  operation_year  \\\n",
       "1368680  Изменение собственника по сделкам, произведенн...            2019   \n",
       "1390823  Изменение собственника по сделкам, произведенн...            2019   \n",
       "1591302  Изменение собственника по сделкам, произведенн...            2019   \n",
       "\n",
       "              size_seller       name_seller  \\\n",
       "1368680  Микропредприятия  ООО \"СПЕЦАВТО-М\"   \n",
       "1390823               NaN          ФИЗ ЛИЦО   \n",
       "1591302  Микропредприятия  ООО \"СПЕЦАВТО-М\"   \n",
       "\n",
       "                                           activity_seller status_seller  \\\n",
       "1368680  Торговля оптовая автомобильными деталями, узла...   Действующая   \n",
       "1390823                                                NaN           NaN   \n",
       "1591302  Торговля оптовая автомобильными деталями, узла...   Действующая   \n",
       "\n",
       "        activity_code_seller  risk_seller      group_seller  \\\n",
       "1368680              45.31.1  Низкий риск  ООО \"СПЕЦАВТО-М\"   \n",
       "1390823                  NaN          NaN          ФИЗ ЛИЦО   \n",
       "1591302              45.31.1  Низкий риск  ООО \"СПЕЦАВТО-М\"   \n",
       "\n",
       "                                     upper_activity_seller        size_buyer  \\\n",
       "1368680  Торговля оптовая и розничная автотранспортными...  Микропредприятия   \n",
       "1390823                                                NaN  Микропредприятия   \n",
       "1591302  Торговля оптовая и розничная автотранспортными...  Микропредприятия   \n",
       "\n",
       "                  name_buyer  \\\n",
       "1368680  ООО \"СПЕЦТРАНСАВТО\"   \n",
       "1390823  ООО \"СПЕЦТРАНСАВТО\"   \n",
       "1591302  ООО \"СПЕЦТРАНСАВТО\"   \n",
       "\n",
       "                                           activity_buyer status_buyer  \\\n",
       "1368680  Деятельность автомобильного грузового транспорта  Действующая   \n",
       "1390823  Деятельность автомобильного грузового транспорта  Действующая   \n",
       "1591302  Деятельность автомобильного грузового транспорта  Действующая   \n",
       "\n",
       "        activity_code_buyer    risk_buyer          group_buyer  \\\n",
       "1368680               49.41  Средний риск  ООО \"СПЕЦТРАНСАВТО\"   \n",
       "1390823               49.41  Средний риск  ООО \"СПЕЦТРАНСАВТО\"   \n",
       "1591302               49.41  Средний риск  ООО \"СПЕЦТРАНСАВТО\"   \n",
       "\n",
       "                                      upper_activity_buyer  \n",
       "1368680  Деятельность сухопутного и трубопроводного тра...  \n",
       "1390823  Деятельность сухопутного и трубопроводного тра...  \n",
       "1591302  Деятельность сухопутного и трубопроводного тра...  "
      ]
     },
     "execution_count": 1382,
     "metadata": {},
     "output_type": "execute_result"
    }
   ],
   "source": [
    "tmp[tmp['inn_buyer'] == '1650374397']"
   ]
  },
  {
   "cell_type": "code",
   "execution_count": 1386,
   "metadata": {},
   "outputs": [
    {
     "data": {
      "text/html": [
       "<div>\n",
       "<style scoped>\n",
       "    .dataframe tbody tr th:only-of-type {\n",
       "        vertical-align: middle;\n",
       "    }\n",
       "\n",
       "    .dataframe tbody tr th {\n",
       "        vertical-align: top;\n",
       "    }\n",
       "\n",
       "    .dataframe thead th {\n",
       "        text-align: right;\n",
       "    }\n",
       "</style>\n",
       "<table border=\"1\" class=\"dataframe\">\n",
       "  <thead>\n",
       "    <tr style=\"text-align: right;\">\n",
       "      <th></th>\n",
       "      <th>inn_seller</th>\n",
       "      <th>inn_buyer</th>\n",
       "      <th>region_seller</th>\n",
       "      <th>activity_field_seller</th>\n",
       "      <th>region_buyer</th>\n",
       "      <th>activity_field_buyer</th>\n",
       "      <th>vin</th>\n",
       "      <th>brand</th>\n",
       "      <th>chassis_config</th>\n",
       "      <th>year</th>\n",
       "      <th>body_type</th>\n",
       "      <th>model</th>\n",
       "      <th>operation_date</th>\n",
       "      <th>operation_reason</th>\n",
       "      <th>operation_year</th>\n",
       "      <th>size_seller</th>\n",
       "      <th>name_seller</th>\n",
       "      <th>activity_seller</th>\n",
       "      <th>status_seller</th>\n",
       "      <th>activity_code_seller</th>\n",
       "      <th>risk_seller</th>\n",
       "      <th>group_seller</th>\n",
       "      <th>upper_activity_seller</th>\n",
       "      <th>size_buyer</th>\n",
       "      <th>name_buyer</th>\n",
       "      <th>activity_buyer</th>\n",
       "      <th>status_buyer</th>\n",
       "      <th>activity_code_buyer</th>\n",
       "      <th>risk_buyer</th>\n",
       "      <th>group_buyer</th>\n",
       "      <th>upper_activity_buyer</th>\n",
       "    </tr>\n",
       "  </thead>\n",
       "  <tbody>\n",
       "    <tr>\n",
       "      <th>952049</th>\n",
       "      <td>INITIAL</td>\n",
       "      <td>1650276008</td>\n",
       "      <td>NaN</td>\n",
       "      <td>NaN</td>\n",
       "      <td>Татарстан</td>\n",
       "      <td>Прочие</td>\n",
       "      <td>XTC549005G2477371</td>\n",
       "      <td>КАМАЗ</td>\n",
       "      <td>4x2</td>\n",
       "      <td>2016.0</td>\n",
       "      <td>Тягач седельный</td>\n",
       "      <td>5490</td>\n",
       "      <td>2017-08-03</td>\n",
       "      <td>первичная регистрация</td>\n",
       "      <td>2017</td>\n",
       "      <td>NaN</td>\n",
       "      <td>INITIAL</td>\n",
       "      <td>NaN</td>\n",
       "      <td>NaN</td>\n",
       "      <td>NaN</td>\n",
       "      <td>NaN</td>\n",
       "      <td>INITIAL</td>\n",
       "      <td>NaN</td>\n",
       "      <td>Микропредприятия</td>\n",
       "      <td>ООО \"АЛЬФАКАМ\"</td>\n",
       "      <td>Деятельность автомобильного грузового транспор...</td>\n",
       "      <td>Действующая</td>\n",
       "      <td>49.4</td>\n",
       "      <td>Низкий риск</td>\n",
       "      <td>ООО \"АЛЬФАКАМ\"</td>\n",
       "      <td>Деятельность сухопутного и трубопроводного тра...</td>\n",
       "    </tr>\n",
       "    <tr>\n",
       "      <th>983246</th>\n",
       "      <td>INITIAL</td>\n",
       "      <td>1650276008</td>\n",
       "      <td>NaN</td>\n",
       "      <td>NaN</td>\n",
       "      <td>Татарстан</td>\n",
       "      <td>Прочие</td>\n",
       "      <td>XTC652065H2495434</td>\n",
       "      <td>КАМАЗ</td>\n",
       "      <td>6x4</td>\n",
       "      <td>2017.0</td>\n",
       "      <td>Тягач седельный</td>\n",
       "      <td>65206</td>\n",
       "      <td>2017-09-12</td>\n",
       "      <td>первичная регистрация</td>\n",
       "      <td>2017</td>\n",
       "      <td>NaN</td>\n",
       "      <td>INITIAL</td>\n",
       "      <td>NaN</td>\n",
       "      <td>NaN</td>\n",
       "      <td>NaN</td>\n",
       "      <td>NaN</td>\n",
       "      <td>INITIAL</td>\n",
       "      <td>NaN</td>\n",
       "      <td>Микропредприятия</td>\n",
       "      <td>ООО \"АЛЬФАКАМ\"</td>\n",
       "      <td>Деятельность автомобильного грузового транспор...</td>\n",
       "      <td>Действующая</td>\n",
       "      <td>49.4</td>\n",
       "      <td>Низкий риск</td>\n",
       "      <td>ООО \"АЛЬФАКАМ\"</td>\n",
       "      <td>Деятельность сухопутного и трубопроводного тра...</td>\n",
       "    </tr>\n",
       "    <tr>\n",
       "      <th>1202365</th>\n",
       "      <td>1639047117</td>\n",
       "      <td>1650276008</td>\n",
       "      <td>Татарстан</td>\n",
       "      <td>Коммерческие перевозки</td>\n",
       "      <td>Татарстан</td>\n",
       "      <td>Коммерческие перевозки</td>\n",
       "      <td>9BSR4X20003900062</td>\n",
       "      <td>SCANIA</td>\n",
       "      <td>4x2</td>\n",
       "      <td>2017.0</td>\n",
       "      <td>Тягач седельный</td>\n",
       "      <td>R440LA</td>\n",
       "      <td>2018-06-22</td>\n",
       "      <td>Изменение собственника по сделкам, произведенн...</td>\n",
       "      <td>2018</td>\n",
       "      <td>Малые предприятия</td>\n",
       "      <td>ООО \"ПРОМТРАНС-Н\"</td>\n",
       "      <td>Техническое обслуживание и ремонт автотранспор...</td>\n",
       "      <td>Действующая</td>\n",
       "      <td>45.20</td>\n",
       "      <td>Низкий риск</td>\n",
       "      <td>ООО \"ПРОМТРАНС-Н\"</td>\n",
       "      <td>Торговля оптовая и розничная автотранспортными...</td>\n",
       "      <td>Микропредприятия</td>\n",
       "      <td>ООО \"АЛЬФАКАМ\"</td>\n",
       "      <td>Деятельность автомобильного грузового транспор...</td>\n",
       "      <td>Действующая</td>\n",
       "      <td>49.4</td>\n",
       "      <td>Низкий риск</td>\n",
       "      <td>ООО \"АЛЬФАКАМ\"</td>\n",
       "      <td>Деятельность сухопутного и трубопроводного тра...</td>\n",
       "    </tr>\n",
       "    <tr>\n",
       "      <th>1383039</th>\n",
       "      <td>INITIAL</td>\n",
       "      <td>1650276008</td>\n",
       "      <td>NaN</td>\n",
       "      <td>NaN</td>\n",
       "      <td>Татарстан</td>\n",
       "      <td>Коммерческие перевозки</td>\n",
       "      <td>9BSG4X20003939271</td>\n",
       "      <td>SCANIA</td>\n",
       "      <td>4x2</td>\n",
       "      <td>2018.0</td>\n",
       "      <td>Тягач седельный</td>\n",
       "      <td>G400LA</td>\n",
       "      <td>2019-03-04</td>\n",
       "      <td>первичная регистрация</td>\n",
       "      <td>2019</td>\n",
       "      <td>NaN</td>\n",
       "      <td>INITIAL</td>\n",
       "      <td>NaN</td>\n",
       "      <td>NaN</td>\n",
       "      <td>NaN</td>\n",
       "      <td>NaN</td>\n",
       "      <td>INITIAL</td>\n",
       "      <td>NaN</td>\n",
       "      <td>Микропредприятия</td>\n",
       "      <td>ООО \"АЛЬФАКАМ\"</td>\n",
       "      <td>Деятельность автомобильного грузового транспор...</td>\n",
       "      <td>Действующая</td>\n",
       "      <td>49.4</td>\n",
       "      <td>Низкий риск</td>\n",
       "      <td>ООО \"АЛЬФАКАМ\"</td>\n",
       "      <td>Деятельность сухопутного и трубопроводного тра...</td>\n",
       "    </tr>\n",
       "  </tbody>\n",
       "</table>\n",
       "</div>"
      ],
      "text/plain": [
       "         inn_seller   inn_buyer region_seller   activity_field_seller  \\\n",
       "952049      INITIAL  1650276008           NaN                     NaN   \n",
       "983246      INITIAL  1650276008           NaN                     NaN   \n",
       "1202365  1639047117  1650276008     Татарстан  Коммерческие перевозки   \n",
       "1383039     INITIAL  1650276008           NaN                     NaN   \n",
       "\n",
       "        region_buyer    activity_field_buyer                vin   brand  \\\n",
       "952049     Татарстан                  Прочие  XTC549005G2477371   КАМАЗ   \n",
       "983246     Татарстан                  Прочие  XTC652065H2495434   КАМАЗ   \n",
       "1202365    Татарстан  Коммерческие перевозки  9BSR4X20003900062  SCANIA   \n",
       "1383039    Татарстан  Коммерческие перевозки  9BSG4X20003939271  SCANIA   \n",
       "\n",
       "        chassis_config    year        body_type   model operation_date  \\\n",
       "952049             4x2  2016.0  Тягач седельный    5490     2017-08-03   \n",
       "983246             6x4  2017.0  Тягач седельный   65206     2017-09-12   \n",
       "1202365            4x2  2017.0  Тягач седельный  R440LA     2018-06-22   \n",
       "1383039            4x2  2018.0  Тягач седельный  G400LA     2019-03-04   \n",
       "\n",
       "                                          operation_reason  operation_year  \\\n",
       "952049                               первичная регистрация            2017   \n",
       "983246                               первичная регистрация            2017   \n",
       "1202365  Изменение собственника по сделкам, произведенн...            2018   \n",
       "1383039                              первичная регистрация            2019   \n",
       "\n",
       "               size_seller        name_seller  \\\n",
       "952049                 NaN            INITIAL   \n",
       "983246                 NaN            INITIAL   \n",
       "1202365  Малые предприятия  ООО \"ПРОМТРАНС-Н\"   \n",
       "1383039                NaN            INITIAL   \n",
       "\n",
       "                                           activity_seller status_seller  \\\n",
       "952049                                                 NaN           NaN   \n",
       "983246                                                 NaN           NaN   \n",
       "1202365  Техническое обслуживание и ремонт автотранспор...   Действующая   \n",
       "1383039                                                NaN           NaN   \n",
       "\n",
       "        activity_code_seller  risk_seller       group_seller  \\\n",
       "952049                   NaN          NaN            INITIAL   \n",
       "983246                   NaN          NaN            INITIAL   \n",
       "1202365                45.20  Низкий риск  ООО \"ПРОМТРАНС-Н\"   \n",
       "1383039                  NaN          NaN            INITIAL   \n",
       "\n",
       "                                     upper_activity_seller        size_buyer  \\\n",
       "952049                                                 NaN  Микропредприятия   \n",
       "983246                                                 NaN  Микропредприятия   \n",
       "1202365  Торговля оптовая и розничная автотранспортными...  Микропредприятия   \n",
       "1383039                                                NaN  Микропредприятия   \n",
       "\n",
       "             name_buyer                                     activity_buyer  \\\n",
       "952049   ООО \"АЛЬФАКАМ\"  Деятельность автомобильного грузового транспор...   \n",
       "983246   ООО \"АЛЬФАКАМ\"  Деятельность автомобильного грузового транспор...   \n",
       "1202365  ООО \"АЛЬФАКАМ\"  Деятельность автомобильного грузового транспор...   \n",
       "1383039  ООО \"АЛЬФАКАМ\"  Деятельность автомобильного грузового транспор...   \n",
       "\n",
       "        status_buyer activity_code_buyer   risk_buyer     group_buyer  \\\n",
       "952049   Действующая                49.4  Низкий риск  ООО \"АЛЬФАКАМ\"   \n",
       "983246   Действующая                49.4  Низкий риск  ООО \"АЛЬФАКАМ\"   \n",
       "1202365  Действующая                49.4  Низкий риск  ООО \"АЛЬФАКАМ\"   \n",
       "1383039  Действующая                49.4  Низкий риск  ООО \"АЛЬФАКАМ\"   \n",
       "\n",
       "                                      upper_activity_buyer  \n",
       "952049   Деятельность сухопутного и трубопроводного тра...  \n",
       "983246   Деятельность сухопутного и трубопроводного тра...  \n",
       "1202365  Деятельность сухопутного и трубопроводного тра...  \n",
       "1383039  Деятельность сухопутного и трубопроводного тра...  "
      ]
     },
     "execution_count": 1386,
     "metadata": {},
     "output_type": "execute_result"
    }
   ],
   "source": [
    "tmp[tmp['inn_buyer'] == '1650276008']"
   ]
  },
  {
   "cell_type": "code",
   "execution_count": null,
   "metadata": {},
   "outputs": [],
   "source": [
    "XTC549005G2477371"
   ]
  },
  {
   "cell_type": "code",
   "execution_count": 1384,
   "metadata": {},
   "outputs": [
    {
     "data": {
      "text/html": [
       "<div>\n",
       "<style scoped>\n",
       "    .dataframe tbody tr th:only-of-type {\n",
       "        vertical-align: middle;\n",
       "    }\n",
       "\n",
       "    .dataframe tbody tr th {\n",
       "        vertical-align: top;\n",
       "    }\n",
       "\n",
       "    .dataframe thead th {\n",
       "        text-align: right;\n",
       "    }\n",
       "</style>\n",
       "<table border=\"1\" class=\"dataframe\">\n",
       "  <thead>\n",
       "    <tr style=\"text-align: right;\">\n",
       "      <th></th>\n",
       "      <th>inn_seller</th>\n",
       "      <th>inn_buyer</th>\n",
       "      <th>region_seller</th>\n",
       "      <th>activity_field_seller</th>\n",
       "      <th>region_buyer</th>\n",
       "      <th>activity_field_buyer</th>\n",
       "      <th>vin</th>\n",
       "      <th>brand</th>\n",
       "      <th>chassis_config</th>\n",
       "      <th>year</th>\n",
       "      <th>body_type</th>\n",
       "      <th>model</th>\n",
       "      <th>operation_date</th>\n",
       "      <th>operation_reason</th>\n",
       "      <th>operation_year</th>\n",
       "      <th>size_seller</th>\n",
       "      <th>name_seller</th>\n",
       "      <th>activity_seller</th>\n",
       "      <th>status_seller</th>\n",
       "      <th>activity_code_seller</th>\n",
       "      <th>risk_seller</th>\n",
       "      <th>group_seller</th>\n",
       "      <th>upper_activity_seller</th>\n",
       "      <th>size_buyer</th>\n",
       "      <th>name_buyer</th>\n",
       "      <th>activity_buyer</th>\n",
       "      <th>status_buyer</th>\n",
       "      <th>activity_code_buyer</th>\n",
       "      <th>risk_buyer</th>\n",
       "      <th>group_buyer</th>\n",
       "      <th>upper_activity_buyer</th>\n",
       "    </tr>\n",
       "  </thead>\n",
       "  <tbody>\n",
       "    <tr>\n",
       "      <th>952049</th>\n",
       "      <td>INITIAL</td>\n",
       "      <td>1650276008</td>\n",
       "      <td>NaN</td>\n",
       "      <td>NaN</td>\n",
       "      <td>Татарстан</td>\n",
       "      <td>Прочие</td>\n",
       "      <td>XTC549005G2477371</td>\n",
       "      <td>КАМАЗ</td>\n",
       "      <td>4x2</td>\n",
       "      <td>2016.0</td>\n",
       "      <td>Тягач седельный</td>\n",
       "      <td>5490</td>\n",
       "      <td>2017-08-03</td>\n",
       "      <td>первичная регистрация</td>\n",
       "      <td>2017</td>\n",
       "      <td>NaN</td>\n",
       "      <td>INITIAL</td>\n",
       "      <td>NaN</td>\n",
       "      <td>NaN</td>\n",
       "      <td>NaN</td>\n",
       "      <td>NaN</td>\n",
       "      <td>INITIAL</td>\n",
       "      <td>NaN</td>\n",
       "      <td>Микропредприятия</td>\n",
       "      <td>ООО \"АЛЬФАКАМ\"</td>\n",
       "      <td>Деятельность автомобильного грузового транспор...</td>\n",
       "      <td>Действующая</td>\n",
       "      <td>49.4</td>\n",
       "      <td>Низкий риск</td>\n",
       "      <td>ООО \"АЛЬФАКАМ\"</td>\n",
       "      <td>Деятельность сухопутного и трубопроводного тра...</td>\n",
       "    </tr>\n",
       "    <tr>\n",
       "      <th>1380890</th>\n",
       "      <td>1650276008</td>\n",
       "      <td>1648038937</td>\n",
       "      <td>Татарстан</td>\n",
       "      <td>Прочие</td>\n",
       "      <td>Татарстан</td>\n",
       "      <td>Коммерческие перевозки</td>\n",
       "      <td>XTC549005G2477371</td>\n",
       "      <td>КАМАЗ</td>\n",
       "      <td>4x2</td>\n",
       "      <td>2016.0</td>\n",
       "      <td>Тягач седельный</td>\n",
       "      <td>5490</td>\n",
       "      <td>2019-02-28</td>\n",
       "      <td>Изменение собственника по сделкам, произведенн...</td>\n",
       "      <td>2019</td>\n",
       "      <td>Микропредприятия</td>\n",
       "      <td>ООО \"АЛЬФАКАМ\"</td>\n",
       "      <td>Деятельность автомобильного грузового транспор...</td>\n",
       "      <td>Действующая</td>\n",
       "      <td>49.4</td>\n",
       "      <td>Низкий риск</td>\n",
       "      <td>ООО \"АЛЬФАКАМ\"</td>\n",
       "      <td>Деятельность сухопутного и трубопроводного тра...</td>\n",
       "      <td>Микропредприятия</td>\n",
       "      <td>ООО \"ТРАНСАВТО\"</td>\n",
       "      <td>Деятельность вспомогательная прочая, связанная...</td>\n",
       "      <td>Действующая</td>\n",
       "      <td>52.29</td>\n",
       "      <td>Низкий риск</td>\n",
       "      <td>ООО \"ТРАНСАВТО\"</td>\n",
       "      <td>Складское хозяйство и вспомогательная транспор...</td>\n",
       "    </tr>\n",
       "  </tbody>\n",
       "</table>\n",
       "</div>"
      ],
      "text/plain": [
       "         inn_seller   inn_buyer region_seller activity_field_seller  \\\n",
       "952049      INITIAL  1650276008           NaN                   NaN   \n",
       "1380890  1650276008  1648038937     Татарстан                Прочие   \n",
       "\n",
       "        region_buyer    activity_field_buyer                vin  brand  \\\n",
       "952049     Татарстан                  Прочие  XTC549005G2477371  КАМАЗ   \n",
       "1380890    Татарстан  Коммерческие перевозки  XTC549005G2477371  КАМАЗ   \n",
       "\n",
       "        chassis_config    year        body_type model operation_date  \\\n",
       "952049             4x2  2016.0  Тягач седельный  5490     2017-08-03   \n",
       "1380890            4x2  2016.0  Тягач седельный  5490     2019-02-28   \n",
       "\n",
       "                                          operation_reason  operation_year  \\\n",
       "952049                               первичная регистрация            2017   \n",
       "1380890  Изменение собственника по сделкам, произведенн...            2019   \n",
       "\n",
       "              size_seller     name_seller  \\\n",
       "952049                NaN         INITIAL   \n",
       "1380890  Микропредприятия  ООО \"АЛЬФАКАМ\"   \n",
       "\n",
       "                                           activity_seller status_seller  \\\n",
       "952049                                                 NaN           NaN   \n",
       "1380890  Деятельность автомобильного грузового транспор...   Действующая   \n",
       "\n",
       "        activity_code_seller  risk_seller    group_seller  \\\n",
       "952049                   NaN          NaN         INITIAL   \n",
       "1380890                 49.4  Низкий риск  ООО \"АЛЬФАКАМ\"   \n",
       "\n",
       "                                     upper_activity_seller        size_buyer  \\\n",
       "952049                                                 NaN  Микропредприятия   \n",
       "1380890  Деятельность сухопутного и трубопроводного тра...  Микропредприятия   \n",
       "\n",
       "              name_buyer                                     activity_buyer  \\\n",
       "952049    ООО \"АЛЬФАКАМ\"  Деятельность автомобильного грузового транспор...   \n",
       "1380890  ООО \"ТРАНСАВТО\"  Деятельность вспомогательная прочая, связанная...   \n",
       "\n",
       "        status_buyer activity_code_buyer   risk_buyer      group_buyer  \\\n",
       "952049   Действующая                49.4  Низкий риск   ООО \"АЛЬФАКАМ\"   \n",
       "1380890  Действующая               52.29  Низкий риск  ООО \"ТРАНСАВТО\"   \n",
       "\n",
       "                                      upper_activity_buyer  \n",
       "952049   Деятельность сухопутного и трубопроводного тра...  \n",
       "1380890  Складское хозяйство и вспомогательная транспор...  "
      ]
     },
     "execution_count": 1384,
     "metadata": {},
     "output_type": "execute_result"
    }
   ],
   "source": [
    "tmp[tmp['vin'] == 'XTC549005G2477371']"
   ]
  },
  {
   "cell_type": "code",
   "execution_count": 1341,
   "metadata": {},
   "outputs": [
    {
     "data": {
      "text/plain": [
       "<matplotlib.axes._subplots.AxesSubplot at 0x7f500594f390>"
      ]
     },
     "execution_count": 1341,
     "metadata": {},
     "output_type": "execute_result"
    },
    {
     "data": {
      "image/png": "[encoded data removed]",
      "text/plain": [
       "<Figure size 432x288 with 1 Axes>"
      ]
     },
     "metadata": {
      "needs_background": "light"
     },
     "output_type": "display_data"
    }
   ],
   "source": [
    "tmp[tmp['operation_reason'] != 'первичная регистрация']['brand'].value_counts(normalize=False).head(15).sort_values().plot(kind = 'bar', grid=True)"
   ]
  },
  {
   "cell_type": "code",
   "execution_count": 806,
   "metadata": {},
   "outputs": [],
   "source": [
    "#-> кто-то продал 324 машины в тч 17 машин вдв -> #финансбизнесгрупп -> вдв-транс 300 машин 20,21,24 - 04 - 2015"
   ]
  },
  {
   "cell_type": "code",
   "execution_count": 807,
   "metadata": {},
   "outputs": [],
   "source": [
    "# потом вдв продает финансбизнесгрупп 182 машины 2015-05-   05-08 + 100 машин вдв продал мелкими партиями разным компаниям и физлицам"
   ]
  },
  {
   "cell_type": "code",
   "execution_count": 950,
   "metadata": {},
   "outputs": [
    {
     "data": {
      "text/plain": [
       "<matplotlib.axes._subplots.AxesSubplot at 0x7f4ff2df1da0>"
      ]
     },
     "execution_count": 950,
     "metadata": {},
     "output_type": "execute_result"
    },
    {
     "data": {
      "image/png": "[encoded data removed]",
      "text/plain": [
       "<Figure size 720x360 with 1 Axes>"
      ]
     },
     "metadata": {
      "needs_background": "light"
     },
     "output_type": "display_data"
    }
   ],
   "source": [
    "tmp['operation_date'].groupby(tmp['operation_date'].dropna().dt.to_period('M')).count().plot(kind='bar',figsize=(10,5),legend=None)"
   ]
  },
  {
   "cell_type": "code",
   "execution_count": 721,
   "metadata": {},
   "outputs": [],
   "source": [
    "list_fbg_buy = tmp[tmp['inn_seller'] != '5032099538']['vin'].to_list()"
   ]
  },
  {
   "cell_type": "code",
   "execution_count": 738,
   "metadata": {},
   "outputs": [
    {
     "data": {
      "text/plain": [
       "324"
      ]
     },
     "execution_count": 738,
     "metadata": {},
     "output_type": "execute_result"
    }
   ],
   "source": [
    "len(list_fbg_buy)"
   ]
  },
  {
   "cell_type": "code",
   "execution_count": 737,
   "metadata": {},
   "outputs": [],
   "source": [
    "list_vdv_buy = tmp[tmp['inn_seller'] == '7701653748']['vin'].to_list()"
   ]
  },
  {
   "cell_type": "code",
   "execution_count": 740,
   "metadata": {},
   "outputs": [
    {
     "data": {
      "text/plain": [
       "300"
      ]
     },
     "execution_count": 740,
     "metadata": {},
     "output_type": "execute_result"
    }
   ],
   "source": [
    "len(list_vdv_buy)"
   ]
  },
  {
   "cell_type": "code",
   "execution_count": 744,
   "metadata": {},
   "outputs": [
    {
     "name": "stdout",
     "output_type": "stream",
     "text": [
      "94.33333333333333\n"
     ]
    }
   ],
   "source": [
    "c = 0\n",
    "for i in list_vdv_buy:\n",
    "    if i in list_fbg_buy:\n",
    "        c += 1\n",
    "print(c*100/300)"
   ]
  },
  {
   "cell_type": "code",
   "execution_count": 1367,
   "metadata": {},
   "outputs": [],
   "source": [
    "tmp = tmp[(tmp['inn_seller'] == '1648038937') | (tmp['inn_buyer'] == '1648038937')]"
   ]
  },
  {
   "cell_type": "code",
   "execution_count": 837,
   "metadata": {},
   "outputs": [],
   "source": [
    "#tmp.shape"
   ]
  },
  {
   "cell_type": "code",
   "execution_count": 1099,
   "metadata": {},
   "outputs": [
    {
     "data": {
      "text/plain": [
       "65115    51\n",
       "43118    47\n",
       "5350     36\n",
       "43114    16\n",
       "65117    12\n",
       "65116     8\n",
       "4308      7\n",
       "4326      7\n",
       "53229     4\n",
       "55111     4\n",
       "5320      3\n",
       "53605     3\n",
       "53215     3\n",
       "65222     2\n",
       "53228     2\n",
       "43101     2\n",
       "4208      2\n",
       "65201     2\n",
       "43253     2\n",
       "5511      1\n",
       "65221     1\n",
       "65111     1\n",
       "44108     1\n",
       "53213     1\n",
       "5410      1\n",
       "53212     1\n",
       "Name: model, dtype: int64"
      ]
     },
     "execution_count": 1099,
     "metadata": {},
     "output_type": "execute_result"
    }
   ],
   "source": [
    "tmp[tmp['brand'] == \"КАМАЗ\"]['model'].value_counts()"
   ]
  },
  {
   "cell_type": "code",
   "execution_count": 1395,
   "metadata": {},
   "outputs": [
    {
     "data": {
      "application/vnd.plotly.v1+json": {
       "config": {
        "plotlyServerURL": "https://plot.ly"
       },
       "data": [
        {
         "link": {
          "source": [
           0,
           0,
           1,
           2,
           3,
           3,
           3,
           4,
           4,
           5,
           5,
           6,
           6,
           6,
           6,
           6,
           6,
           6,
           6,
           6,
           6,
           6,
           6,
           6,
           6,
           7,
           7,
           7,
           8,
           8,
           9,
           9,
           10,
           10,
           11,
           11,
           12,
           12,
           12,
           13,
           14,
           14,
           15,
           16,
           16,
           16,
           17,
           17,
           17,
           18,
           18,
           18,
           19,
           20,
           20,
           21,
           21,
           22,
           22,
           22,
           23,
           23,
           24,
           24,
           24,
           24,
           24
          ],
          "target": [
           25,
           26,
           27,
           28,
           29,
           30,
           26,
           29,
           31,
           29,
           26,
           29,
           27,
           30,
           31,
           32,
           33,
           34,
           35,
           36,
           28,
           37,
           38,
           39,
           26,
           29,
           27,
           26,
           29,
           26,
           29,
           37,
           29,
           26,
           29,
           26,
           29,
           33,
           40,
           41,
           35,
           26,
           32,
           29,
           42,
           26,
           29,
           34,
           26,
           29,
           43,
           26,
           33,
           29,
           26,
           29,
           26,
           29,
           44,
           26,
           29,
           26,
           29,
           32,
           45,
           36,
           39
          ],
          "value": [
           29,
           1,
           21,
           25,
           10,
           29,
           4,
           1,
           26,
           30,
           3,
           2043,
           14,
           1,
           12,
           2,
           11,
           6,
           5,
           29,
           3,
           5,
           21,
           25,
           1154,
           23,
           4,
           2,
           19,
           1,
           15,
           186,
           14,
           27,
           21,
           19,
           10,
           1,
           23,
           62,
           15,
           6,
           29,
           49,
           24,
           8,
           34,
           14,
           2,
           30,
           35,
           9,
           23,
           10,
           15,
           14,
           9,
           16,
           22,
           3,
           24,
           3,
           212,
           1,
           23,
           2,
           2
          ]
         },
         "node": {
          "color": [
           "red",
           "red",
           "red",
           "red",
           "red",
           "red",
           "red",
           "red",
           "red",
           "red",
           "red",
           "red",
           "red",
           "red",
           "red",
           "red",
           "red",
           "red",
           "red",
           "red",
           "red",
           "red",
           "red",
           "red",
           "red",
           "blue",
           "blue",
           "blue",
           "blue",
           "blue",
           "blue",
           "blue",
           "blue",
           "blue",
           "blue",
           "blue",
           "blue",
           "blue",
           "blue",
           "blue",
           "blue",
           "blue",
           "blue",
           "blue",
           "blue",
           "blue"
          ],
          "label": [
           "1601008905",
           "1606005295",
           "1649004507",
           "1650263834",
           "1655141558",
           "1659019767",
           "MINOR",
           "АО \"РОСАГРОЛИЗИНГ\"",
           "АО \"ТАИФ-НК\"",
           "ЗАО \"ПТФК \"ЗТЭО\"",
           "ОАО \"КАЗДОРСТРОЙ\"",
           "ООО \"АВТО ЮДФ\"",
           "ООО \"ВОЛГА-АВТОДОР\"",
           "ООО \"ДЕТАЛИ МАШИН\"",
           "ООО \"ИНФОСЕРВИС\"",
           "ООО \"КАЗДОРСТРОЙ - ТК\"",
           "ООО \"КОНТАКТ-С\"",
           "ООО \"ОРТЭКС\"",
           "ООО \"РОСДОРСТРОЙ\",ООО \"РДС\"",
           "ООО \"СКАД\"",
           "ООО \"ТАТНЕФТЬ - АКТИВ\"",
           "ООО \"ТК АВТОСФЕРА\"",
           "ООО \"ЭГК-МЕХАНИЗАЦИЯ\"",
           "ПАО \"КАМАЗ\"",
           "ФИЗ ЛИЦО",
           "ООО \"АГРОФИРМА-АГРЫЗ\"",
           "ФИЗ ЛИЦО",
           "АО \"ВОСТОК ЗЕРНОПРОДУКТ\"",
           "ООО \"ТАТНЕФТЬ - АКТИВ\"",
           "MINOR",
           "АО \"ЛИЗИНГОВАЯ КОМПАНИЯ \"КАМАЗ\"",
           "ГЛАВНОЕ УПРАВЛЕНИЕ МЧС РОССИИ ПО РЕСПУБЛИКЕ ТАТАРСТАН",
           "ОАО \"КАЗДОРСТРОЙ\"",
           "ООО \"ВОЛГА-АВТОДОР\"",
           "ООО \"ВОСТОК-ЛИЗИНГ\"",
           "ООО \"КОНТАКТ-С\"",
           "ООО \"СТС\"",
           "ООО \"ТЭМПО-ЛОГИСТИК\"",
           "ООО \"УАТ-НКНХ\"",
           "ООО \"ЭКОСПЕЦТРАНС\"",
           "ООО \"СКАД\"",
           "ООО \"СОЮЗ-ЛОГИСТИК\"",
           "ООО \"ИНФОСЕРВИС\"",
           "ООО \"СОВТРАНССТРОЙ\"",
           "ЗАО \"ЭГК-ИНВЕСТ\"",
           "ООО \"АЛЬФА ТРЕЙЛЕР\""
          ],
          "line": {
           "color": "black",
           "width": 0.2
          },
          "pad": 15,
          "thickness": 20
         },
         "type": "sankey"
        }
       ],
       "layout": {
        "autosize": true,
        "font": {
         "size": 10
        },
        "height": 1500,
        "template": {
         "data": {
          "bar": [
           {
            "error_x": {
             "color": "#2a3f5f"
            },
            "error_y": {
             "color": "#2a3f5f"
            },
            "marker": {
             "line": {
              "color": "#E5ECF6",
              "width": 0.5
             }
            },
            "type": "bar"
           }
          ],
          "barpolar": [
           {
            "marker": {
             "line": {
              "color": "#E5ECF6",
              "width": 0.5
             }
            },
            "type": "barpolar"
           }
          ],
          "carpet": [
           {
            "aaxis": {
             "endlinecolor": "#2a3f5f",
             "gridcolor": "white",
             "linecolor": "white",
             "minorgridcolor": "white",
             "startlinecolor": "#2a3f5f"
            },
            "baxis": {
             "endlinecolor": "#2a3f5f",
             "gridcolor": "white",
             "linecolor": "white",
             "minorgridcolor": "white",
             "startlinecolor": "#2a3f5f"
            },
            "type": "carpet"
           }
          ],
          "choropleth": [
           {
            "colorbar": {
             "outlinewidth": 0,
             "ticks": ""
            },
            "type": "choropleth"
           }
          ],
          "contour": [
           {
            "colorbar": {
             "outlinewidth": 0,
             "ticks": ""
            },
            "colorscale": [
             [
              0,
              "#0d0887"
             ],
             [
              0.1111111111111111,
              "#46039f"
             ],
             [
              0.2222222222222222,
              "#7201a8"
             ],
             [
              0.3333333333333333,
              "#9c179e"
             ],
             [
              0.4444444444444444,
              "#bd3786"
             ],
             [
              0.5555555555555556,
              "#d8576b"
             ],
             [
              0.6666666666666666,
              "#ed7953"
             ],
             [
              0.7777777777777778,
              "#fb9f3a"
             ],
             [
              0.8888888888888888,
              "#fdca26"
             ],
             [
              1,
              "#f0f921"
             ]
            ],
            "type": "contour"
           }
          ],
          "contourcarpet": [
           {
            "colorbar": {
             "outlinewidth": 0,
             "ticks": ""
            },
            "type": "contourcarpet"
           }
          ],
          "heatmap": [
           {
            "colorbar": {
             "outlinewidth": 0,
             "ticks": ""
            },
            "colorscale": [
             [
              0,
              "#0d0887"
             ],
             [
              0.1111111111111111,
              "#46039f"
             ],
             [
              0.2222222222222222,
              "#7201a8"
             ],
             [
              0.3333333333333333,
              "#9c179e"
             ],
             [
              0.4444444444444444,
              "#bd3786"
             ],
             [
              0.5555555555555556,
              "#d8576b"
             ],
             [
              0.6666666666666666,
              "#ed7953"
             ],
             [
              0.7777777777777778,
              "#fb9f3a"
             ],
             [
              0.8888888888888888,
              "#fdca26"
             ],
             [
              1,
              "#f0f921"
             ]
            ],
            "type": "heatmap"
           }
          ],
          "heatmapgl": [
           {
            "colorbar": {
             "outlinewidth": 0,
             "ticks": ""
            },
            "colorscale": [
             [
              0,
              "#0d0887"
             ],
             [
              0.1111111111111111,
              "#46039f"
             ],
             [
              0.2222222222222222,
              "#7201a8"
             ],
             [
              0.3333333333333333,
              "#9c179e"
             ],
             [
              0.4444444444444444,
              "#bd3786"
             ],
             [
              0.5555555555555556,
              "#d8576b"
             ],
             [
              0.6666666666666666,
              "#ed7953"
             ],
             [
              0.7777777777777778,
              "#fb9f3a"
             ],
             [
              0.8888888888888888,
              "#fdca26"
             ],
             [
              1,
              "#f0f921"
             ]
            ],
            "type": "heatmapgl"
           }
          ],
          "histogram": [
           {
            "marker": {
             "colorbar": {
              "outlinewidth": 0,
              "ticks": ""
             }
            },
            "type": "histogram"
           }
          ],
          "histogram2d": [
           {
            "colorbar": {
             "outlinewidth": 0,
             "ticks": ""
            },
            "colorscale": [
             [
              0,
              "#0d0887"
             ],
             [
              0.1111111111111111,
              "#46039f"
             ],
             [
              0.2222222222222222,
              "#7201a8"
             ],
             [
              0.3333333333333333,
              "#9c179e"
             ],
             [
              0.4444444444444444,
              "#bd3786"
             ],
             [
              0.5555555555555556,
              "#d8576b"
             ],
             [
              0.6666666666666666,
              "#ed7953"
             ],
             [
              0.7777777777777778,
              "#fb9f3a"
             ],
             [
              0.8888888888888888,
              "#fdca26"
             ],
             [
              1,
              "#f0f921"
             ]
            ],
            "type": "histogram2d"
           }
          ],
          "histogram2dcontour": [
           {
            "colorbar": {
             "outlinewidth": 0,
             "ticks": ""
            },
            "colorscale": [
             [
              0,
              "#0d0887"
             ],
             [
              0.1111111111111111,
              "#46039f"
             ],
             [
              0.2222222222222222,
              "#7201a8"
             ],
             [
              0.3333333333333333,
              "#9c179e"
             ],
             [
              0.4444444444444444,
              "#bd3786"
             ],
             [
              0.5555555555555556,
              "#d8576b"
             ],
             [
              0.6666666666666666,
              "#ed7953"
             ],
             [
              0.7777777777777778,
              "#fb9f3a"
             ],
             [
              0.8888888888888888,
              "#fdca26"
             ],
             [
              1,
              "#f0f921"
             ]
            ],
            "type": "histogram2dcontour"
           }
          ],
          "mesh3d": [
           {
            "colorbar": {
             "outlinewidth": 0,
             "ticks": ""
            },
            "type": "mesh3d"
           }
          ],
          "parcoords": [
           {
            "line": {
             "colorbar": {
              "outlinewidth": 0,
              "ticks": ""
             }
            },
            "type": "parcoords"
           }
          ],
          "pie": [
           {
            "automargin": true,
            "type": "pie"
           }
          ],
          "scatter": [
           {
            "marker": {
             "colorbar": {
              "outlinewidth": 0,
              "ticks": ""
             }
            },
            "type": "scatter"
           }
          ],
          "scatter3d": [
           {
            "line": {
             "colorbar": {
              "outlinewidth": 0,
              "ticks": ""
             }
            },
            "marker": {
             "colorbar": {
              "outlinewidth": 0,
              "ticks": ""
             }
            },
            "type": "scatter3d"
           }
          ],
          "scattercarpet": [
           {
            "marker": {
             "colorbar": {
              "outlinewidth": 0,
              "ticks": ""
             }
            },
            "type": "scattercarpet"
           }
          ],
          "scattergeo": [
           {
            "marker": {
             "colorbar": {
              "outlinewidth": 0,
              "ticks": ""
             }
            },
            "type": "scattergeo"
           }
          ],
          "scattergl": [
           {
            "marker": {
             "colorbar": {
              "outlinewidth": 0,
              "ticks": ""
             }
            },
            "type": "scattergl"
           }
          ],
          "scattermapbox": [
           {
            "marker": {
             "colorbar": {
              "outlinewidth": 0,
              "ticks": ""
             }
            },
            "type": "scattermapbox"
           }
          ],
          "scatterpolar": [
           {
            "marker": {
             "colorbar": {
              "outlinewidth": 0,
              "ticks": ""
             }
            },
            "type": "scatterpolar"
           }
          ],
          "scatterpolargl": [
           {
            "marker": {
             "colorbar": {
              "outlinewidth": 0,
              "ticks": ""
             }
            },
            "type": "scatterpolargl"
           }
          ],
          "scatterternary": [
           {
            "marker": {
             "colorbar": {
              "outlinewidth": 0,
              "ticks": ""
             }
            },
            "type": "scatterternary"
           }
          ],
          "surface": [
           {
            "colorbar": {
             "outlinewidth": 0,
             "ticks": ""
            },
            "colorscale": [
             [
              0,
              "#0d0887"
             ],
             [
              0.1111111111111111,
              "#46039f"
             ],
             [
              0.2222222222222222,
              "#7201a8"
             ],
             [
              0.3333333333333333,
              "#9c179e"
             ],
             [
              0.4444444444444444,
              "#bd3786"
             ],
             [
              0.5555555555555556,
              "#d8576b"
             ],
             [
              0.6666666666666666,
              "#ed7953"
             ],
             [
              0.7777777777777778,
              "#fb9f3a"
             ],
             [
              0.8888888888888888,
              "#fdca26"
             ],
             [
              1,
              "#f0f921"
             ]
            ],
            "type": "surface"
           }
          ],
          "table": [
           {
            "cells": {
             "fill": {
              "color": "#EBF0F8"
             },
             "line": {
              "color": "white"
             }
            },
            "header": {
             "fill": {
              "color": "#C8D4E3"
             },
             "line": {
              "color": "white"
             }
            },
            "type": "table"
           }
          ]
         },
         "layout": {
          "annotationdefaults": {
           "arrowcolor": "#2a3f5f",
           "arrowhead": 0,
           "arrowwidth": 1
          },
          "coloraxis": {
           "colorbar": {
            "outlinewidth": 0,
            "ticks": ""
           }
          },
          "colorscale": {
           "diverging": [
            [
             0,
             "#8e0152"
            ],
            [
             0.1,
             "#c51b7d"
            ],
            [
             0.2,
             "#de77ae"
            ],
            [
             0.3,
             "#f1b6da"
            ],
            [
             0.4,
             "#fde0ef"
            ],
            [
             0.5,
             "#f7f7f7"
            ],
            [
             0.6,
             "#e6f5d0"
            ],
            [
             0.7,
             "#b8e186"
            ],
            [
             0.8,
             "#7fbc41"
            ],
            [
             0.9,
             "#4d9221"
            ],
            [
             1,
             "#276419"
            ]
           ],
           "sequential": [
            [
             0,
             "#0d0887"
            ],
            [
             0.1111111111111111,
             "#46039f"
            ],
            [
             0.2222222222222222,
             "#7201a8"
            ],
            [
             0.3333333333333333,
             "#9c179e"
            ],
            [
             0.4444444444444444,
             "#bd3786"
            ],
            [
             0.5555555555555556,
             "#d8576b"
            ],
            [
             0.6666666666666666,
             "#ed7953"
            ],
            [
             0.7777777777777778,
             "#fb9f3a"
            ],
            [
             0.8888888888888888,
             "#fdca26"
            ],
            [
             1,
             "#f0f921"
            ]
           ],
           "sequentialminus": [
            [
             0,
             "#0d0887"
            ],
            [
             0.1111111111111111,
             "#46039f"
            ],
            [
             0.2222222222222222,
             "#7201a8"
            ],
            [
             0.3333333333333333,
             "#9c179e"
            ],
            [
             0.4444444444444444,
             "#bd3786"
            ],
            [
             0.5555555555555556,
             "#d8576b"
            ],
            [
             0.6666666666666666,
             "#ed7953"
            ],
            [
             0.7777777777777778,
             "#fb9f3a"
            ],
            [
             0.8888888888888888,
             "#fdca26"
            ],
            [
             1,
             "#f0f921"
            ]
           ]
          },
          "colorway": [
           "#636efa",
           "#EF553B",
           "#00cc96",
           "#ab63fa",
           "#FFA15A",
           "#19d3f3",
           "#FF6692",
           "#B6E880",
           "#FF97FF",
           "#FECB52"
          ],
          "font": {
           "color": "#2a3f5f"
          },
          "geo": {
           "bgcolor": "white",
           "lakecolor": "white",
           "landcolor": "#E5ECF6",
           "showlakes": true,
           "showland": true,
           "subunitcolor": "white"
          },
          "hoverlabel": {
           "align": "left"
          },
          "hovermode": "closest",
          "mapbox": {
           "style": "light"
          },
          "paper_bgcolor": "white",
          "plot_bgcolor": "#E5ECF6",
          "polar": {
           "angularaxis": {
            "gridcolor": "white",
            "linecolor": "white",
            "ticks": ""
           },
           "bgcolor": "#E5ECF6",
           "radialaxis": {
            "gridcolor": "white",
            "linecolor": "white",
            "ticks": ""
           }
          },
          "scene": {
           "xaxis": {
            "backgroundcolor": "#E5ECF6",
            "gridcolor": "white",
            "gridwidth": 2,
            "linecolor": "white",
            "showbackground": true,
            "ticks": "",
            "zerolinecolor": "white"
           },
           "yaxis": {
            "backgroundcolor": "#E5ECF6",
            "gridcolor": "white",
            "gridwidth": 2,
            "linecolor": "white",
            "showbackground": true,
            "ticks": "",
            "zerolinecolor": "white"
           },
           "zaxis": {
            "backgroundcolor": "#E5ECF6",
            "gridcolor": "white",
            "gridwidth": 2,
            "linecolor": "white",
            "showbackground": true,
            "ticks": "",
            "zerolinecolor": "white"
           }
          },
          "shapedefaults": {
           "line": {
            "color": "#2a3f5f"
           }
          },
          "ternary": {
           "aaxis": {
            "gridcolor": "white",
            "linecolor": "white",
            "ticks": ""
           },
           "baxis": {
            "gridcolor": "white",
            "linecolor": "white",
            "ticks": ""
           },
           "bgcolor": "#E5ECF6",
           "caxis": {
            "gridcolor": "white",
            "linecolor": "white",
            "ticks": ""
           }
          },
          "title": {
           "x": 0.05
          },
          "xaxis": {
           "automargin": true,
           "gridcolor": "white",
           "linecolor": "white",
           "ticks": "",
           "title": {
            "standoff": 15
           },
           "zerolinecolor": "white",
           "zerolinewidth": 2
          },
          "yaxis": {
           "automargin": true,
           "gridcolor": "white",
           "linecolor": "white",
           "ticks": "",
           "title": {
            "standoff": 15
           },
           "zerolinecolor": "white",
           "zerolinewidth": 2
          }
         }
        },
        "title": {
         "text": "Transaction Sankey Diagram"
        },
        "width": 1000
       }
      },
      "image/png": "[encoded data removed]",
      "text/html": [
       "<div>\n",
       "        \n",
       "        \n",
       "            <div id=\"91d5956e-dea5-4746-aba2-06d69ca63aaf\" class=\"plotly-graph-div\" style=\"height:1500px; width:1000px;\"></div>\n",
       "            <script type=\"text/javascript\">\n",
       "                require([\"plotly\"], function(Plotly) {\n",
       "                    window.PLOTLYENV=window.PLOTLYENV || {};\n",
       "                    \n",
       "                if (document.getElementById(\"91d5956e-dea5-4746-aba2-06d69ca63aaf\")) {\n",
       "                    Plotly.newPlot(\n",
       "                        '91d5956e-dea5-4746-aba2-06d69ca63aaf',\n",
       "                        [{\"link\": {\"source\": [0, 0, 1, 2, 3, 3, 3, 4, 4, 5, 5, 6, 6, 6, 6, 6, 6, 6, 6, 6, 6, 6, 6, 6, 6, 7, 7, 7, 8, 8, 9, 9, 10, 10, 11, 11, 12, 12, 12, 13, 14, 14, 15, 16, 16, 16, 17, 17, 17, 18, 18, 18, 19, 20, 20, 21, 21, 22, 22, 22, 23, 23, 24, 24, 24, 24, 24], \"target\": [25, 26, 27, 28, 29, 30, 26, 29, 31, 29, 26, 29, 27, 30, 31, 32, 33, 34, 35, 36, 28, 37, 38, 39, 26, 29, 27, 26, 29, 26, 29, 37, 29, 26, 29, 26, 29, 33, 40, 41, 35, 26, 32, 29, 42, 26, 29, 34, 26, 29, 43, 26, 33, 29, 26, 29, 26, 29, 44, 26, 29, 26, 29, 32, 45, 36, 39], \"value\": [29, 1, 21, 25, 10, 29, 4, 1, 26, 30, 3, 2043, 14, 1, 12, 2, 11, 6, 5, 29, 3, 5, 21, 25, 1154, 23, 4, 2, 19, 1, 15, 186, 14, 27, 21, 19, 10, 1, 23, 62, 15, 6, 29, 49, 24, 8, 34, 14, 2, 30, 35, 9, 23, 10, 15, 14, 9, 16, 22, 3, 24, 3, 212, 1, 23, 2, 2]}, \"node\": {\"color\": [\"red\", \"red\", \"red\", \"red\", \"red\", \"red\", \"red\", \"red\", \"red\", \"red\", \"red\", \"red\", \"red\", \"red\", \"red\", \"red\", \"red\", \"red\", \"red\", \"red\", \"red\", \"red\", \"red\", \"red\", \"red\", \"blue\", \"blue\", \"blue\", \"blue\", \"blue\", \"blue\", \"blue\", \"blue\", \"blue\", \"blue\", \"blue\", \"blue\", \"blue\", \"blue\", \"blue\", \"blue\", \"blue\", \"blue\", \"blue\", \"blue\", \"blue\"], \"label\": [\"1601008905\", \"1606005295\", \"1649004507\", \"1650263834\", \"1655141558\", \"1659019767\", \"MINOR\", \"\\u0410\\u041e \\\"\\u0420\\u041e\\u0421\\u0410\\u0413\\u0420\\u041e\\u041b\\u0418\\u0417\\u0418\\u041d\\u0413\\\"\", \"\\u0410\\u041e \\\"\\u0422\\u0410\\u0418\\u0424-\\u041d\\u041a\\\"\", \"\\u0417\\u0410\\u041e \\\"\\u041f\\u0422\\u0424\\u041a \\\"\\u0417\\u0422\\u042d\\u041e\\\"\", \"\\u041e\\u0410\\u041e \\\"\\u041a\\u0410\\u0417\\u0414\\u041e\\u0420\\u0421\\u0422\\u0420\\u041e\\u0419\\\"\", \"\\u041e\\u041e\\u041e \\\"\\u0410\\u0412\\u0422\\u041e \\u042e\\u0414\\u0424\\\"\", \"\\u041e\\u041e\\u041e \\\"\\u0412\\u041e\\u041b\\u0413\\u0410-\\u0410\\u0412\\u0422\\u041e\\u0414\\u041e\\u0420\\\"\", \"\\u041e\\u041e\\u041e \\\"\\u0414\\u0415\\u0422\\u0410\\u041b\\u0418 \\u041c\\u0410\\u0428\\u0418\\u041d\\\"\", \"\\u041e\\u041e\\u041e \\\"\\u0418\\u041d\\u0424\\u041e\\u0421\\u0415\\u0420\\u0412\\u0418\\u0421\\\"\", \"\\u041e\\u041e\\u041e \\\"\\u041a\\u0410\\u0417\\u0414\\u041e\\u0420\\u0421\\u0422\\u0420\\u041e\\u0419 - \\u0422\\u041a\\\"\", \"\\u041e\\u041e\\u041e \\\"\\u041a\\u041e\\u041d\\u0422\\u0410\\u041a\\u0422-\\u0421\\\"\", \"\\u041e\\u041e\\u041e \\\"\\u041e\\u0420\\u0422\\u042d\\u041a\\u0421\\\"\", \"\\u041e\\u041e\\u041e \\\"\\u0420\\u041e\\u0421\\u0414\\u041e\\u0420\\u0421\\u0422\\u0420\\u041e\\u0419\\\",\\u041e\\u041e\\u041e \\\"\\u0420\\u0414\\u0421\\\"\", \"\\u041e\\u041e\\u041e \\\"\\u0421\\u041a\\u0410\\u0414\\\"\", \"\\u041e\\u041e\\u041e \\\"\\u0422\\u0410\\u0422\\u041d\\u0415\\u0424\\u0422\\u042c - \\u0410\\u041a\\u0422\\u0418\\u0412\\\"\", \"\\u041e\\u041e\\u041e \\\"\\u0422\\u041a \\u0410\\u0412\\u0422\\u041e\\u0421\\u0424\\u0415\\u0420\\u0410\\\"\", \"\\u041e\\u041e\\u041e \\\"\\u042d\\u0413\\u041a-\\u041c\\u0415\\u0425\\u0410\\u041d\\u0418\\u0417\\u0410\\u0426\\u0418\\u042f\\\"\", \"\\u041f\\u0410\\u041e \\\"\\u041a\\u0410\\u041c\\u0410\\u0417\\\"\", \"\\u0424\\u0418\\u0417 \\u041b\\u0418\\u0426\\u041e\", \"\\u041e\\u041e\\u041e \\\"\\u0410\\u0413\\u0420\\u041e\\u0424\\u0418\\u0420\\u041c\\u0410-\\u0410\\u0413\\u0420\\u042b\\u0417\\\"\", \"\\u0424\\u0418\\u0417 \\u041b\\u0418\\u0426\\u041e\", \"\\u0410\\u041e \\\"\\u0412\\u041e\\u0421\\u0422\\u041e\\u041a \\u0417\\u0415\\u0420\\u041d\\u041e\\u041f\\u0420\\u041e\\u0414\\u0423\\u041a\\u0422\\\"\", \"\\u041e\\u041e\\u041e \\\"\\u0422\\u0410\\u0422\\u041d\\u0415\\u0424\\u0422\\u042c - \\u0410\\u041a\\u0422\\u0418\\u0412\\\"\", \"MINOR\", \"\\u0410\\u041e \\\"\\u041b\\u0418\\u0417\\u0418\\u041d\\u0413\\u041e\\u0412\\u0410\\u042f \\u041a\\u041e\\u041c\\u041f\\u0410\\u041d\\u0418\\u042f \\\"\\u041a\\u0410\\u041c\\u0410\\u0417\\\"\", \"\\u0413\\u041b\\u0410\\u0412\\u041d\\u041e\\u0415 \\u0423\\u041f\\u0420\\u0410\\u0412\\u041b\\u0415\\u041d\\u0418\\u0415 \\u041c\\u0427\\u0421 \\u0420\\u041e\\u0421\\u0421\\u0418\\u0418 \\u041f\\u041e \\u0420\\u0415\\u0421\\u041f\\u0423\\u0411\\u041b\\u0418\\u041a\\u0415 \\u0422\\u0410\\u0422\\u0410\\u0420\\u0421\\u0422\\u0410\\u041d\", \"\\u041e\\u0410\\u041e \\\"\\u041a\\u0410\\u0417\\u0414\\u041e\\u0420\\u0421\\u0422\\u0420\\u041e\\u0419\\\"\", \"\\u041e\\u041e\\u041e \\\"\\u0412\\u041e\\u041b\\u0413\\u0410-\\u0410\\u0412\\u0422\\u041e\\u0414\\u041e\\u0420\\\"\", \"\\u041e\\u041e\\u041e \\\"\\u0412\\u041e\\u0421\\u0422\\u041e\\u041a-\\u041b\\u0418\\u0417\\u0418\\u041d\\u0413\\\"\", \"\\u041e\\u041e\\u041e \\\"\\u041a\\u041e\\u041d\\u0422\\u0410\\u041a\\u0422-\\u0421\\\"\", \"\\u041e\\u041e\\u041e \\\"\\u0421\\u0422\\u0421\\\"\", \"\\u041e\\u041e\\u041e \\\"\\u0422\\u042d\\u041c\\u041f\\u041e-\\u041b\\u041e\\u0413\\u0418\\u0421\\u0422\\u0418\\u041a\\\"\", \"\\u041e\\u041e\\u041e \\\"\\u0423\\u0410\\u0422-\\u041d\\u041a\\u041d\\u0425\\\"\", \"\\u041e\\u041e\\u041e \\\"\\u042d\\u041a\\u041e\\u0421\\u041f\\u0415\\u0426\\u0422\\u0420\\u0410\\u041d\\u0421\\\"\", \"\\u041e\\u041e\\u041e \\\"\\u0421\\u041a\\u0410\\u0414\\\"\", \"\\u041e\\u041e\\u041e \\\"\\u0421\\u041e\\u042e\\u0417-\\u041b\\u041e\\u0413\\u0418\\u0421\\u0422\\u0418\\u041a\\\"\", \"\\u041e\\u041e\\u041e \\\"\\u0418\\u041d\\u0424\\u041e\\u0421\\u0415\\u0420\\u0412\\u0418\\u0421\\\"\", \"\\u041e\\u041e\\u041e \\\"\\u0421\\u041e\\u0412\\u0422\\u0420\\u0410\\u041d\\u0421\\u0421\\u0422\\u0420\\u041e\\u0419\\\"\", \"\\u0417\\u0410\\u041e \\\"\\u042d\\u0413\\u041a-\\u0418\\u041d\\u0412\\u0415\\u0421\\u0422\\\"\", \"\\u041e\\u041e\\u041e \\\"\\u0410\\u041b\\u042c\\u0424\\u0410 \\u0422\\u0420\\u0415\\u0419\\u041b\\u0415\\u0420\\\"\"], \"line\": {\"color\": \"black\", \"width\": 0.2}, \"pad\": 15, \"thickness\": 20}, \"type\": \"sankey\"}],\n",
       "                        {\"autosize\": true, \"font\": {\"size\": 10}, \"height\": 1500, \"template\": {\"data\": {\"bar\": [{\"error_x\": {\"color\": \"#2a3f5f\"}, \"error_y\": {\"color\": \"#2a3f5f\"}, \"marker\": {\"line\": {\"color\": \"#E5ECF6\", \"width\": 0.5}}, \"type\": \"bar\"}], \"barpolar\": [{\"marker\": {\"line\": {\"color\": \"#E5ECF6\", \"width\": 0.5}}, \"type\": \"barpolar\"}], \"carpet\": [{\"aaxis\": {\"endlinecolor\": \"#2a3f5f\", \"gridcolor\": \"white\", \"linecolor\": \"white\", \"minorgridcolor\": \"white\", \"startlinecolor\": \"#2a3f5f\"}, \"baxis\": {\"endlinecolor\": \"#2a3f5f\", \"gridcolor\": \"white\", \"linecolor\": \"white\", \"minorgridcolor\": \"white\", \"startlinecolor\": \"#2a3f5f\"}, \"type\": \"carpet\"}], \"choropleth\": [{\"colorbar\": {\"outlinewidth\": 0, \"ticks\": \"\"}, \"type\": \"choropleth\"}], \"contour\": [{\"colorbar\": {\"outlinewidth\": 0, \"ticks\": \"\"}, \"colorscale\": [[0.0, \"#0d0887\"], [0.1111111111111111, \"#46039f\"], [0.2222222222222222, \"#7201a8\"], [0.3333333333333333, \"#9c179e\"], [0.4444444444444444, \"#bd3786\"], [0.5555555555555556, \"#d8576b\"], [0.6666666666666666, \"#ed7953\"], [0.7777777777777778, \"#fb9f3a\"], [0.8888888888888888, \"#fdca26\"], [1.0, \"#f0f921\"]], \"type\": \"contour\"}], \"contourcarpet\": [{\"colorbar\": {\"outlinewidth\": 0, \"ticks\": \"\"}, \"type\": \"contourcarpet\"}], \"heatmap\": [{\"colorbar\": {\"outlinewidth\": 0, \"ticks\": \"\"}, \"colorscale\": [[0.0, \"#0d0887\"], [0.1111111111111111, \"#46039f\"], [0.2222222222222222, \"#7201a8\"], [0.3333333333333333, \"#9c179e\"], [0.4444444444444444, \"#bd3786\"], [0.5555555555555556, \"#d8576b\"], [0.6666666666666666, \"#ed7953\"], [0.7777777777777778, \"#fb9f3a\"], [0.8888888888888888, \"#fdca26\"], [1.0, \"#f0f921\"]], \"type\": \"heatmap\"}], \"heatmapgl\": [{\"colorbar\": {\"outlinewidth\": 0, \"ticks\": \"\"}, \"colorscale\": [[0.0, \"#0d0887\"], [0.1111111111111111, \"#46039f\"], [0.2222222222222222, \"#7201a8\"], [0.3333333333333333, \"#9c179e\"], [0.4444444444444444, \"#bd3786\"], [0.5555555555555556, \"#d8576b\"], [0.6666666666666666, \"#ed7953\"], [0.7777777777777778, \"#fb9f3a\"], [0.8888888888888888, \"#fdca26\"], [1.0, \"#f0f921\"]], \"type\": \"heatmapgl\"}], \"histogram\": [{\"marker\": {\"colorbar\": {\"outlinewidth\": 0, \"ticks\": \"\"}}, \"type\": \"histogram\"}], \"histogram2d\": [{\"colorbar\": {\"outlinewidth\": 0, \"ticks\": \"\"}, \"colorscale\": [[0.0, \"#0d0887\"], [0.1111111111111111, \"#46039f\"], [0.2222222222222222, \"#7201a8\"], [0.3333333333333333, \"#9c179e\"], [0.4444444444444444, \"#bd3786\"], [0.5555555555555556, \"#d8576b\"], [0.6666666666666666, \"#ed7953\"], [0.7777777777777778, \"#fb9f3a\"], [0.8888888888888888, \"#fdca26\"], [1.0, \"#f0f921\"]], \"type\": \"histogram2d\"}], \"histogram2dcontour\": [{\"colorbar\": {\"outlinewidth\": 0, \"ticks\": \"\"}, \"colorscale\": [[0.0, \"#0d0887\"], [0.1111111111111111, \"#46039f\"], [0.2222222222222222, \"#7201a8\"], [0.3333333333333333, \"#9c179e\"], [0.4444444444444444, \"#bd3786\"], [0.5555555555555556, \"#d8576b\"], [0.6666666666666666, \"#ed7953\"], [0.7777777777777778, \"#fb9f3a\"], [0.8888888888888888, \"#fdca26\"], [1.0, \"#f0f921\"]], \"type\": \"histogram2dcontour\"}], \"mesh3d\": [{\"colorbar\": {\"outlinewidth\": 0, \"ticks\": \"\"}, \"type\": \"mesh3d\"}], \"parcoords\": [{\"line\": {\"colorbar\": {\"outlinewidth\": 0, \"ticks\": \"\"}}, \"type\": \"parcoords\"}], \"pie\": [{\"automargin\": true, \"type\": \"pie\"}], \"scatter\": [{\"marker\": {\"colorbar\": {\"outlinewidth\": 0, \"ticks\": \"\"}}, \"type\": \"scatter\"}], \"scatter3d\": [{\"line\": {\"colorbar\": {\"outlinewidth\": 0, \"ticks\": \"\"}}, \"marker\": {\"colorbar\": {\"outlinewidth\": 0, \"ticks\": \"\"}}, \"type\": \"scatter3d\"}], \"scattercarpet\": [{\"marker\": {\"colorbar\": {\"outlinewidth\": 0, \"ticks\": \"\"}}, \"type\": \"scattercarpet\"}], \"scattergeo\": [{\"marker\": {\"colorbar\": {\"outlinewidth\": 0, \"ticks\": \"\"}}, \"type\": \"scattergeo\"}], \"scattergl\": [{\"marker\": {\"colorbar\": {\"outlinewidth\": 0, \"ticks\": \"\"}}, \"type\": \"scattergl\"}], \"scattermapbox\": [{\"marker\": {\"colorbar\": {\"outlinewidth\": 0, \"ticks\": \"\"}}, \"type\": \"scattermapbox\"}], \"scatterpolar\": [{\"marker\": {\"colorbar\": {\"outlinewidth\": 0, \"ticks\": \"\"}}, \"type\": \"scatterpolar\"}], \"scatterpolargl\": [{\"marker\": {\"colorbar\": {\"outlinewidth\": 0, \"ticks\": \"\"}}, \"type\": \"scatterpolargl\"}], \"scatterternary\": [{\"marker\": {\"colorbar\": {\"outlinewidth\": 0, \"ticks\": \"\"}}, \"type\": \"scatterternary\"}], \"surface\": [{\"colorbar\": {\"outlinewidth\": 0, \"ticks\": \"\"}, \"colorscale\": [[0.0, \"#0d0887\"], [0.1111111111111111, \"#46039f\"], [0.2222222222222222, \"#7201a8\"], [0.3333333333333333, \"#9c179e\"], [0.4444444444444444, \"#bd3786\"], [0.5555555555555556, \"#d8576b\"], [0.6666666666666666, \"#ed7953\"], [0.7777777777777778, \"#fb9f3a\"], [0.8888888888888888, \"#fdca26\"], [1.0, \"#f0f921\"]], \"type\": \"surface\"}], \"table\": [{\"cells\": {\"fill\": {\"color\": \"#EBF0F8\"}, \"line\": {\"color\": \"white\"}}, \"header\": {\"fill\": {\"color\": \"#C8D4E3\"}, \"line\": {\"color\": \"white\"}}, \"type\": \"table\"}]}, \"layout\": {\"annotationdefaults\": {\"arrowcolor\": \"#2a3f5f\", \"arrowhead\": 0, \"arrowwidth\": 1}, \"coloraxis\": {\"colorbar\": {\"outlinewidth\": 0, \"ticks\": \"\"}}, \"colorscale\": {\"diverging\": [[0, \"#8e0152\"], [0.1, \"#c51b7d\"], [0.2, \"#de77ae\"], [0.3, \"#f1b6da\"], [0.4, \"#fde0ef\"], [0.5, \"#f7f7f7\"], [0.6, \"#e6f5d0\"], [0.7, \"#b8e186\"], [0.8, \"#7fbc41\"], [0.9, \"#4d9221\"], [1, \"#276419\"]], \"sequential\": [[0.0, \"#0d0887\"], [0.1111111111111111, \"#46039f\"], [0.2222222222222222, \"#7201a8\"], [0.3333333333333333, \"#9c179e\"], [0.4444444444444444, \"#bd3786\"], [0.5555555555555556, \"#d8576b\"], [0.6666666666666666, \"#ed7953\"], [0.7777777777777778, \"#fb9f3a\"], [0.8888888888888888, \"#fdca26\"], [1.0, \"#f0f921\"]], \"sequentialminus\": [[0.0, \"#0d0887\"], [0.1111111111111111, \"#46039f\"], [0.2222222222222222, \"#7201a8\"], [0.3333333333333333, \"#9c179e\"], [0.4444444444444444, \"#bd3786\"], [0.5555555555555556, \"#d8576b\"], [0.6666666666666666, \"#ed7953\"], [0.7777777777777778, \"#fb9f3a\"], [0.8888888888888888, \"#fdca26\"], [1.0, \"#f0f921\"]]}, \"colorway\": [\"#636efa\", \"#EF553B\", \"#00cc96\", \"#ab63fa\", \"#FFA15A\", \"#19d3f3\", \"#FF6692\", \"#B6E880\", \"#FF97FF\", \"#FECB52\"], \"font\": {\"color\": \"#2a3f5f\"}, \"geo\": {\"bgcolor\": \"white\", \"lakecolor\": \"white\", \"landcolor\": \"#E5ECF6\", \"showlakes\": true, \"showland\": true, \"subunitcolor\": \"white\"}, \"hoverlabel\": {\"align\": \"left\"}, \"hovermode\": \"closest\", \"mapbox\": {\"style\": \"light\"}, \"paper_bgcolor\": \"white\", \"plot_bgcolor\": \"#E5ECF6\", \"polar\": {\"angularaxis\": {\"gridcolor\": \"white\", \"linecolor\": \"white\", \"ticks\": \"\"}, \"bgcolor\": \"#E5ECF6\", \"radialaxis\": {\"gridcolor\": \"white\", \"linecolor\": \"white\", \"ticks\": \"\"}}, \"scene\": {\"xaxis\": {\"backgroundcolor\": \"#E5ECF6\", \"gridcolor\": \"white\", \"gridwidth\": 2, \"linecolor\": \"white\", \"showbackground\": true, \"ticks\": \"\", \"zerolinecolor\": \"white\"}, \"yaxis\": {\"backgroundcolor\": \"#E5ECF6\", \"gridcolor\": \"white\", \"gridwidth\": 2, \"linecolor\": \"white\", \"showbackground\": true, \"ticks\": \"\", \"zerolinecolor\": \"white\"}, \"zaxis\": {\"backgroundcolor\": \"#E5ECF6\", \"gridcolor\": \"white\", \"gridwidth\": 2, \"linecolor\": \"white\", \"showbackground\": true, \"ticks\": \"\", \"zerolinecolor\": \"white\"}}, \"shapedefaults\": {\"line\": {\"color\": \"#2a3f5f\"}}, \"ternary\": {\"aaxis\": {\"gridcolor\": \"white\", \"linecolor\": \"white\", \"ticks\": \"\"}, \"baxis\": {\"gridcolor\": \"white\", \"linecolor\": \"white\", \"ticks\": \"\"}, \"bgcolor\": \"#E5ECF6\", \"caxis\": {\"gridcolor\": \"white\", \"linecolor\": \"white\", \"ticks\": \"\"}}, \"title\": {\"x\": 0.05}, \"xaxis\": {\"automargin\": true, \"gridcolor\": \"white\", \"linecolor\": \"white\", \"ticks\": \"\", \"title\": {\"standoff\": 15}, \"zerolinecolor\": \"white\", \"zerolinewidth\": 2}, \"yaxis\": {\"automargin\": true, \"gridcolor\": \"white\", \"linecolor\": \"white\", \"ticks\": \"\", \"title\": {\"standoff\": 15}, \"zerolinecolor\": \"white\", \"zerolinewidth\": 2}}}, \"title\": {\"text\": \"Transaction Sankey Diagram\"}, \"width\": 1000},\n",
       "                        {\"responsive\": true}\n",
       "                    ).then(function(){\n",
       "                            \n",
       "var gd = document.getElementById('91d5956e-dea5-4746-aba2-06d69ca63aaf');\n",
       "var x = new MutationObserver(function (mutations, observer) {{\n",
       "        var display = window.getComputedStyle(gd).display;\n",
       "        if (!display || display === 'none') {{\n",
       "            console.log([gd, 'removed!']);\n",
       "            Plotly.purge(gd);\n",
       "            observer.disconnect();\n",
       "        }}\n",
       "}});\n",
       "\n",
       "// Listen for the removal of the full notebook cells\n",
       "var notebookContainer = gd.closest('#notebook-container');\n",
       "if (notebookContainer) {{\n",
       "    x.observe(notebookContainer, {childList: true});\n",
       "}}\n",
       "\n",
       "// Listen for the clearing of the current output cell\n",
       "var outputEl = gd.closest('.output');\n",
       "if (outputEl) {{\n",
       "    x.observe(outputEl, {childList: true});\n",
       "}}\n",
       "\n",
       "                        })\n",
       "                };\n",
       "                });\n",
       "            </script>\n",
       "        </div>"
      ]
     },
     "metadata": {},
     "output_type": "display_data"
    }
   ],
   "source": [
    "sankey(\n",
    "    tmp,\n",
    "    seller=seller_group,\n",
    "    buyer=buyer_group,\n",
    "    bipartite=True,\n",
    "    display_nan=True,\n",
    "    display_minor=True,\n",
    "    drop_cycle=False,\n",
    "    min_transaction_seller=20,\n",
    "    min_transaction_buyer=20,\n",
    ")"
   ]
  },
  {
   "cell_type": "code",
   "execution_count": null,
   "metadata": {},
   "outputs": [],
   "source": [
    "get_histogram(tmp, sec_feature='region_seller')\n",
    "get_transacation_count(tmp, 'age', 'operation_year')"
   ]
  },
  {
   "cell_type": "code",
   "execution_count": null,
   "metadata": {},
   "outputs": [],
   "source": []
  },
  {
   "cell_type": "code",
   "execution_count": 1183,
   "metadata": {},
   "outputs": [
    {
     "data": {
      "text/plain": [
       "КАМАЗ    20580\n",
       "Name: brand, dtype: int64"
      ]
     },
     "execution_count": 1183,
     "metadata": {},
     "output_type": "execute_result"
    }
   ],
   "source": [
    "tmp['brand'].value_counts()"
   ]
  },
  {
   "cell_type": "code",
   "execution_count": 953,
   "metadata": {},
   "outputs": [
    {
     "data": {
      "text/plain": [
       "первичная регистрация                                                                                                    139\n",
       "Изменение собственника по сделкам, произведенным в любой форме с сохранением государственных регистрационных знаков       58\n",
       "регистрация, снятых с учета                                                                                               32\n",
       "замена государственного регистрационного знака                                                                            12\n",
       "выдача акта технического осмотра                                                                                           9\n",
       "временная регистрация ТС (на срок проведения проверок, на срок временной прописки, регистрация испытательной техники)      4\n",
       "выдача дубликата регистрационного документа                                                                                4\n",
       "изменение Ф.И.О. (наименования) владельца                                                                                  3\n",
       "замена номерного агрегата, цвета, изменение конструкции ТС                                                                 3\n",
       "коррекция иных реквизитов                                                                                                  1\n",
       "Восстановление регистрации (учета) ТС                                                                                      1\n",
       "Name: operation_reason, dtype: int64"
      ]
     },
     "execution_count": 953,
     "metadata": {},
     "output_type": "execute_result"
    }
   ],
   "source": [
    "tmp['operation_reason'].value_counts()"
   ]
  },
  {
   "cell_type": "code",
   "execution_count": 952,
   "metadata": {},
   "outputs": [
    {
     "data": {
      "text/plain": [
       "42     7017150293\n",
       "50     1650263834\n",
       "51     1650263834\n",
       "52     1650263834\n",
       "53     1650263834\n",
       "          ...    \n",
       "259    7609020870\n",
       "260    7609020870\n",
       "261    3808228379\n",
       "263    7602149875\n",
       "265    7609020870\n",
       "Name: inn_seller, Length: 63, dtype: object"
      ]
     },
     "execution_count": 952,
     "metadata": {},
     "output_type": "execute_result"
    }
   ],
   "source": [
    "tmp['inn_seller'].dropna()"
   ]
  },
  {
   "cell_type": "markdown",
   "metadata": {},
   "source": [
    "# STASH"
   ]
  },
  {
   "cell_type": "code",
   "execution_count": null,
   "metadata": {},
   "outputs": [],
   "source": []
  }
 ],
 "metadata": {
  "kernelspec": {
   "display_name": "Python 3",
   "language": "python",
   "name": "python3"
  },
  "language_info": {
   "codemirror_mode": {
    "name": "ipython",
    "version": 3
   },
   "file_extension": ".py",
   "mimetype": "text/x-python",
   "name": "python",
   "nbconvert_exporter": "python",
   "pygments_lexer": "ipython3",
   "version": "3.7.3"
  }
 },
 "nbformat": 4,
 "nbformat_minor": 4
}
